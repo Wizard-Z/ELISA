{
 "cells": [
  {
   "cell_type": "markdown",
   "metadata": {},
   "source": [
    "# Accuracy check"
   ]
  },
  {
   "cell_type": "code",
   "execution_count": 1,
   "metadata": {},
   "outputs": [],
   "source": [
    "import pandas as pd\n",
    "import numpy as np\n",
    "import matplotlib.pyplot as plt\n",
    "import itertools\n",
    "from sklearn.metrics import classification_report, confusion_matrix\n",
    "import seaborn as sns\n",
    "%matplotlib inline"
   ]
  },
  {
   "cell_type": "markdown",
   "metadata": {},
   "source": [
    "## Load Predictions"
   ]
  },
  {
   "cell_type": "code",
   "execution_count": 2,
   "metadata": {},
   "outputs": [
    {
     "data": {
      "text/html": [
       "<div>\n",
       "<style scoped>\n",
       "    .dataframe tbody tr th:only-of-type {\n",
       "        vertical-align: middle;\n",
       "    }\n",
       "\n",
       "    .dataframe tbody tr th {\n",
       "        vertical-align: top;\n",
       "    }\n",
       "\n",
       "    .dataframe thead th {\n",
       "        text-align: right;\n",
       "    }\n",
       "</style>\n",
       "<table border=\"1\" class=\"dataframe\">\n",
       "  <thead>\n",
       "    <tr style=\"text-align: right;\">\n",
       "      <th></th>\n",
       "      <th>id</th>\n",
       "      <th>Headline</th>\n",
       "      <th>target</th>\n",
       "      <th>preds</th>\n",
       "      <th>Reliable</th>\n",
       "      <th>Unreliable</th>\n",
       "    </tr>\n",
       "  </thead>\n",
       "  <tbody>\n",
       "    <tr>\n",
       "      <th>0</th>\n",
       "      <td>8627</td>\n",
       "      <td>Are Whites Being Setup for Genocide?</td>\n",
       "      <td>1</td>\n",
       "      <td>unreliable</td>\n",
       "      <td>0.211613</td>\n",
       "      <td>0.788387</td>\n",
       "    </tr>\n",
       "    <tr>\n",
       "      <th>1</th>\n",
       "      <td>7528</td>\n",
       "      <td>Consortiumnews.com</td>\n",
       "      <td>0</td>\n",
       "      <td>reliable</td>\n",
       "      <td>0.999916</td>\n",
       "      <td>0.000085</td>\n",
       "    </tr>\n",
       "    <tr>\n",
       "      <th>2</th>\n",
       "      <td>2377</td>\n",
       "      <td>United Methodists Vote Down Israel Divestment ...</td>\n",
       "      <td>0</td>\n",
       "      <td>reliable</td>\n",
       "      <td>0.998583</td>\n",
       "      <td>0.001417</td>\n",
       "    </tr>\n",
       "    <tr>\n",
       "      <th>3</th>\n",
       "      <td>4139</td>\n",
       "      <td>Book Notice: Phoenix from the Ashes by H. J. A...</td>\n",
       "      <td>1</td>\n",
       "      <td>reliable</td>\n",
       "      <td>0.880870</td>\n",
       "      <td>0.119130</td>\n",
       "    </tr>\n",
       "    <tr>\n",
       "      <th>4</th>\n",
       "      <td>10169</td>\n",
       "      <td>Are Green Smoothies Bad for You?</td>\n",
       "      <td>0</td>\n",
       "      <td>reliable</td>\n",
       "      <td>0.862861</td>\n",
       "      <td>0.137139</td>\n",
       "    </tr>\n",
       "    <tr>\n",
       "      <th>5</th>\n",
       "      <td>4793</td>\n",
       "      <td>Supreme Court Hears Church Firing Case</td>\n",
       "      <td>0</td>\n",
       "      <td>reliable</td>\n",
       "      <td>0.999895</td>\n",
       "      <td>0.000105</td>\n",
       "    </tr>\n",
       "    <tr>\n",
       "      <th>6</th>\n",
       "      <td>6786</td>\n",
       "      <td>number National Prayer by Anne Graham Lotz</td>\n",
       "      <td>0</td>\n",
       "      <td>reliable</td>\n",
       "      <td>0.693826</td>\n",
       "      <td>0.306174</td>\n",
       "    </tr>\n",
       "    <tr>\n",
       "      <th>7</th>\n",
       "      <td>1688</td>\n",
       "      <td>Self-Powered Smart Toys with Nanogenerators Wi...</td>\n",
       "      <td>1</td>\n",
       "      <td>unreliable</td>\n",
       "      <td>0.000031</td>\n",
       "      <td>0.999969</td>\n",
       "    </tr>\n",
       "    <tr>\n",
       "      <th>8</th>\n",
       "      <td>5968</td>\n",
       "      <td>Best Food to Prevent Common Childhood Infections</td>\n",
       "      <td>0</td>\n",
       "      <td>reliable</td>\n",
       "      <td>0.909698</td>\n",
       "      <td>0.090302</td>\n",
       "    </tr>\n",
       "    <tr>\n",
       "      <th>9</th>\n",
       "      <td>6510</td>\n",
       "      <td>Experiments Prove numberth Spatial Dimension</td>\n",
       "      <td>1</td>\n",
       "      <td>unreliable</td>\n",
       "      <td>0.001795</td>\n",
       "      <td>0.998205</td>\n",
       "    </tr>\n",
       "  </tbody>\n",
       "</table>\n",
       "</div>"
      ],
      "text/plain": [
       "      id                                           Headline  target  \\\n",
       "0   8627               Are Whites Being Setup for Genocide?       1   \n",
       "1   7528                                 Consortiumnews.com       0   \n",
       "2   2377  United Methodists Vote Down Israel Divestment ...       0   \n",
       "3   4139  Book Notice: Phoenix from the Ashes by H. J. A...       1   \n",
       "4  10169                   Are Green Smoothies Bad for You?       0   \n",
       "5   4793             Supreme Court Hears Church Firing Case       0   \n",
       "6   6786        number National Prayer by Anne Graham Lotz        0   \n",
       "7   1688  Self-Powered Smart Toys with Nanogenerators Wi...       1   \n",
       "8   5968   Best Food to Prevent Common Childhood Infections       0   \n",
       "9   6510       Experiments Prove numberth Spatial Dimension       1   \n",
       "\n",
       "        preds  Reliable  Unreliable  \n",
       "0  unreliable  0.211613    0.788387  \n",
       "1    reliable  0.999916    0.000085  \n",
       "2    reliable  0.998583    0.001417  \n",
       "3    reliable  0.880870    0.119130  \n",
       "4    reliable  0.862861    0.137139  \n",
       "5    reliable  0.999895    0.000105  \n",
       "6    reliable  0.693826    0.306174  \n",
       "7  unreliable  0.000031    0.999969  \n",
       "8    reliable  0.909698    0.090302  \n",
       "9  unreliable  0.001795    0.998205  "
      ]
     },
     "execution_count": 2,
     "metadata": {},
     "output_type": "execute_result"
    }
   ],
   "source": [
    "results = pd.read_csv('results/predictions_early_80.csv')\n",
    "results.head(10)"
   ]
  },
  {
   "cell_type": "code",
   "execution_count": 3,
   "metadata": {},
   "outputs": [
    {
     "data": {
      "text/plain": [
       "{'reliable': 0, 'unreliable': 1}"
      ]
     },
     "execution_count": 3,
     "metadata": {},
     "output_type": "execute_result"
    }
   ],
   "source": [
    "targets = ['reliable', 'unreliable']\n",
    "targets_dict = dict(zip(targets, range(len(targets))))\n",
    "targets_dict"
   ]
  },
  {
   "cell_type": "code",
   "execution_count": 4,
   "metadata": {},
   "outputs": [
    {
     "data": {
      "text/html": [
       "<div>\n",
       "<style scoped>\n",
       "    .dataframe tbody tr th:only-of-type {\n",
       "        vertical-align: middle;\n",
       "    }\n",
       "\n",
       "    .dataframe tbody tr th {\n",
       "        vertical-align: top;\n",
       "    }\n",
       "\n",
       "    .dataframe thead th {\n",
       "        text-align: right;\n",
       "    }\n",
       "</style>\n",
       "<table border=\"1\" class=\"dataframe\">\n",
       "  <thead>\n",
       "    <tr style=\"text-align: right;\">\n",
       "      <th></th>\n",
       "      <th>id</th>\n",
       "      <th>Headline</th>\n",
       "      <th>target</th>\n",
       "      <th>preds</th>\n",
       "      <th>Reliable</th>\n",
       "      <th>Unreliable</th>\n",
       "      <th>predict</th>\n",
       "    </tr>\n",
       "  </thead>\n",
       "  <tbody>\n",
       "    <tr>\n",
       "      <th>0</th>\n",
       "      <td>8627</td>\n",
       "      <td>Are Whites Being Setup for Genocide?</td>\n",
       "      <td>1</td>\n",
       "      <td>unreliable</td>\n",
       "      <td>0.211613</td>\n",
       "      <td>0.788387</td>\n",
       "      <td>1</td>\n",
       "    </tr>\n",
       "    <tr>\n",
       "      <th>1</th>\n",
       "      <td>7528</td>\n",
       "      <td>Consortiumnews.com</td>\n",
       "      <td>0</td>\n",
       "      <td>reliable</td>\n",
       "      <td>0.999916</td>\n",
       "      <td>0.000085</td>\n",
       "      <td>0</td>\n",
       "    </tr>\n",
       "    <tr>\n",
       "      <th>2</th>\n",
       "      <td>2377</td>\n",
       "      <td>United Methodists Vote Down Israel Divestment ...</td>\n",
       "      <td>0</td>\n",
       "      <td>reliable</td>\n",
       "      <td>0.998583</td>\n",
       "      <td>0.001417</td>\n",
       "      <td>0</td>\n",
       "    </tr>\n",
       "    <tr>\n",
       "      <th>3</th>\n",
       "      <td>4139</td>\n",
       "      <td>Book Notice: Phoenix from the Ashes by H. J. A...</td>\n",
       "      <td>1</td>\n",
       "      <td>reliable</td>\n",
       "      <td>0.880870</td>\n",
       "      <td>0.119130</td>\n",
       "      <td>0</td>\n",
       "    </tr>\n",
       "    <tr>\n",
       "      <th>4</th>\n",
       "      <td>10169</td>\n",
       "      <td>Are Green Smoothies Bad for You?</td>\n",
       "      <td>0</td>\n",
       "      <td>reliable</td>\n",
       "      <td>0.862861</td>\n",
       "      <td>0.137139</td>\n",
       "      <td>0</td>\n",
       "    </tr>\n",
       "    <tr>\n",
       "      <th>5</th>\n",
       "      <td>4793</td>\n",
       "      <td>Supreme Court Hears Church Firing Case</td>\n",
       "      <td>0</td>\n",
       "      <td>reliable</td>\n",
       "      <td>0.999895</td>\n",
       "      <td>0.000105</td>\n",
       "      <td>0</td>\n",
       "    </tr>\n",
       "    <tr>\n",
       "      <th>6</th>\n",
       "      <td>6786</td>\n",
       "      <td>number National Prayer by Anne Graham Lotz</td>\n",
       "      <td>0</td>\n",
       "      <td>reliable</td>\n",
       "      <td>0.693826</td>\n",
       "      <td>0.306174</td>\n",
       "      <td>0</td>\n",
       "    </tr>\n",
       "    <tr>\n",
       "      <th>7</th>\n",
       "      <td>1688</td>\n",
       "      <td>Self-Powered Smart Toys with Nanogenerators Wi...</td>\n",
       "      <td>1</td>\n",
       "      <td>unreliable</td>\n",
       "      <td>0.000031</td>\n",
       "      <td>0.999969</td>\n",
       "      <td>1</td>\n",
       "    </tr>\n",
       "    <tr>\n",
       "      <th>8</th>\n",
       "      <td>5968</td>\n",
       "      <td>Best Food to Prevent Common Childhood Infections</td>\n",
       "      <td>0</td>\n",
       "      <td>reliable</td>\n",
       "      <td>0.909698</td>\n",
       "      <td>0.090302</td>\n",
       "      <td>0</td>\n",
       "    </tr>\n",
       "    <tr>\n",
       "      <th>9</th>\n",
       "      <td>6510</td>\n",
       "      <td>Experiments Prove numberth Spatial Dimension</td>\n",
       "      <td>1</td>\n",
       "      <td>unreliable</td>\n",
       "      <td>0.001795</td>\n",
       "      <td>0.998205</td>\n",
       "      <td>1</td>\n",
       "    </tr>\n",
       "  </tbody>\n",
       "</table>\n",
       "</div>"
      ],
      "text/plain": [
       "      id                                           Headline  target  \\\n",
       "0   8627               Are Whites Being Setup for Genocide?       1   \n",
       "1   7528                                 Consortiumnews.com       0   \n",
       "2   2377  United Methodists Vote Down Israel Divestment ...       0   \n",
       "3   4139  Book Notice: Phoenix from the Ashes by H. J. A...       1   \n",
       "4  10169                   Are Green Smoothies Bad for You?       0   \n",
       "5   4793             Supreme Court Hears Church Firing Case       0   \n",
       "6   6786        number National Prayer by Anne Graham Lotz        0   \n",
       "7   1688  Self-Powered Smart Toys with Nanogenerators Wi...       1   \n",
       "8   5968   Best Food to Prevent Common Childhood Infections       0   \n",
       "9   6510       Experiments Prove numberth Spatial Dimension       1   \n",
       "\n",
       "        preds  Reliable  Unreliable  predict  \n",
       "0  unreliable  0.211613    0.788387        1  \n",
       "1    reliable  0.999916    0.000085        0  \n",
       "2    reliable  0.998583    0.001417        0  \n",
       "3    reliable  0.880870    0.119130        0  \n",
       "4    reliable  0.862861    0.137139        0  \n",
       "5    reliable  0.999895    0.000105        0  \n",
       "6    reliable  0.693826    0.306174        0  \n",
       "7  unreliable  0.000031    0.999969        1  \n",
       "8    reliable  0.909698    0.090302        0  \n",
       "9  unreliable  0.001795    0.998205        1  "
      ]
     },
     "execution_count": 4,
     "metadata": {},
     "output_type": "execute_result"
    }
   ],
   "source": [
    "results['predict'] = list(map(lambda x: targets_dict[x], results['preds']))\n",
    "results.head(10)"
   ]
  },
  {
   "cell_type": "markdown",
   "metadata": {},
   "source": [
    "## Performance Check"
   ]
  },
  {
   "cell_type": "code",
   "execution_count": 5,
   "metadata": {},
   "outputs": [],
   "source": [
    "y_true = results.target\n",
    "y_pred = results.predict"
   ]
  },
  {
   "cell_type": "code",
   "execution_count": 6,
   "metadata": {},
   "outputs": [
    {
     "name": "stdout",
     "output_type": "stream",
     "text": [
      "             precision    recall  f1-score   support\n",
      "\n",
      "          0       0.92      0.94      0.93      1160\n",
      "          1       0.93      0.91      0.92      1073\n",
      "\n",
      "avg / total       0.92      0.92      0.92      2233\n",
      "\n"
     ]
    }
   ],
   "source": [
    "print(classification_report(y_true, y_pred))"
   ]
  },
  {
   "cell_type": "markdown",
   "metadata": {},
   "source": [
    "## Plot Confusion Matrix"
   ]
  },
  {
   "cell_type": "code",
   "execution_count": 7,
   "metadata": {},
   "outputs": [],
   "source": [
    "def plot_confusion_matrix(cm, classes,\n",
    "                          normalize=False,\n",
    "                          title='Confusion matrix',\n",
    "                          cmap=plt.cm.Blues):\n",
    "    \"\"\"\n",
    "    This function prints and plots the confusion matrix.\n",
    "    Normalization can be applied by setting `normalize=True`.\n",
    "    \"\"\"\n",
    "    if normalize:\n",
    "        cm = cm.astype('float') / cm.sum(axis=1)[:, np.newaxis]\n",
    "        print(\"Normalized confusion matrix\")\n",
    "    else:\n",
    "        print('Confusion matrix, without normalization')\n",
    "\n",
    "    print(cm)\n",
    "\n",
    "    plt.imshow(cm, interpolation='nearest', cmap=cmap)\n",
    "    plt.title(title)\n",
    "    plt.colorbar()\n",
    "    tick_marks = np.arange(len(classes))\n",
    "    plt.xticks(tick_marks, classes, rotation=45)\n",
    "    plt.yticks(tick_marks, classes)\n",
    "\n",
    "    fmt = '.2f' if normalize else 'd'\n",
    "    thresh = cm.max() / 2.\n",
    "    for i, j in itertools.product(range(cm.shape[0]), range(cm.shape[1])):\n",
    "        plt.text(j, i, format(cm[i, j], fmt),\n",
    "                 horizontalalignment=\"center\",\n",
    "                 color=\"white\" if cm[i, j] > thresh else \"black\")\n",
    "\n",
    "    plt.ylabel('True label')\n",
    "    \n",
    "    plt.xlabel('Predicted label')\n",
    "    plt.tight_layout()\n"
   ]
  },
  {
   "cell_type": "code",
   "execution_count": 8,
   "metadata": {},
   "outputs": [
    {
     "name": "stdout",
     "output_type": "stream",
     "text": [
      "Confusion matrix, without normalization\n",
      "[[1085   75]\n",
      " [  98  975]]\n"
     ]
    },
    {
     "data": {
      "image/png": "[encoded data removed]",
      "text/plain": [
       "<Figure size 432x288 with 2 Axes>"
      ]
     },
     "metadata": {
      "needs_background": "light"
     },
     "output_type": "display_data"
    }
   ],
   "source": [
    "plot_confusion_matrix(confusion_matrix(y_true, y_pred),['Reliable', 'Fake'])"
   ]
  },
  {
   "cell_type": "markdown",
   "metadata": {},
   "source": [
    "## Prediction distribution visualization"
   ]
  },
  {
   "cell_type": "code",
   "execution_count": 21,
   "metadata": {},
   "outputs": [],
   "source": [
    "rel = results[results['predict'].astype(str) == '0']['Reliable']\n",
    "unrel = results[results['predict'].astype(str) == '1']['Reliable']"
   ]
  },
  {
   "cell_type": "code",
   "execution_count": 22,
   "metadata": {},
   "outputs": [
    {
     "name": "stderr",
     "output_type": "stream",
     "text": [
      "/opt/Anaconda3/lib/python3.6/site-packages/scipy/stats/stats.py:1713: FutureWarning: Using a non-tuple sequence for multidimensional indexing is deprecated; use `arr[tuple(seq)]` instead of `arr[seq]`. In the future this will be interpreted as an array index, `arr[np.array(seq)]`, which will result either in an error or a different result.\n",
      "  return np.add.reduce(sorted[indexer] * weights, axis=axis) / sumval\n"
     ]
    },
    {
     "data": {
      "text/plain": [
       "<matplotlib.axes._subplots.AxesSubplot at 0x7f9b6f832400>"
      ]
     },
     "execution_count": 22,
     "metadata": {},
     "output_type": "execute_result"
    },
    {
     "data": {
      "image/png": "[encoded data removed]",
      "text/plain": [
       "<Figure size 432x288 with 1 Axes>"
      ]
     },
     "metadata": {
      "needs_background": "light"
     },
     "output_type": "display_data"
    }
   ],
   "source": [
    "sns.distplot(rel)"
   ]
  },
  {
   "cell_type": "code",
   "execution_count": 23,
   "metadata": {},
   "outputs": [
    {
     "name": "stderr",
     "output_type": "stream",
     "text": [
      "/opt/Anaconda3/lib/python3.6/site-packages/scipy/stats/stats.py:1713: FutureWarning: Using a non-tuple sequence for multidimensional indexing is deprecated; use `arr[tuple(seq)]` instead of `arr[seq]`. In the future this will be interpreted as an array index, `arr[np.array(seq)]`, which will result either in an error or a different result.\n",
      "  return np.add.reduce(sorted[indexer] * weights, axis=axis) / sumval\n"
     ]
    },
    {
     "data": {
      "text/plain": [
       "<matplotlib.axes._subplots.AxesSubplot at 0x7f9b6f707c18>"
      ]
     },
     "execution_count": 23,
     "metadata": {},
     "output_type": "execute_result"
    },
    {
     "data": {
      "image/png": "[encoded data removed]",
      "text/plain": [
       "<Figure size 432x288 with 1 Axes>"
      ]
     },
     "metadata": {
      "needs_background": "light"
     },
     "output_type": "display_data"
    }
   ],
   "source": [
    "sns.distplot(unrel)"
   ]
  },
  {
   "cell_type": "code",
   "execution_count": null,
   "metadata": {},
   "outputs": [],
   "source": []
  }
 ],
 "metadata": {
  "kernelspec": {
   "display_name": "Python 3",
   "language": "python",
   "name": "python3"
  },
  "language_info": {
   "codemirror_mode": {
    "name": "ipython",
    "version": 3
   },
   "file_extension": ".py",
   "mimetype": "text/x-python",
   "name": "python",
   "nbconvert_exporter": "python",
   "pygments_lexer": "ipython3",
   "version": "3.6.6"
  }
 },
 "nbformat": 4,
 "nbformat_minor": 2
}
