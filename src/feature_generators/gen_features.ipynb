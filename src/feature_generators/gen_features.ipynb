{
 "cells": [
  {
   "cell_type": "code",
   "execution_count": 1,
   "metadata": {},
   "outputs": [],
   "source": [
    "import pandas as pd\n",
    "import pickle\n",
    "from CountFeatureGenerator import *\n",
    "from TfidfFeatureGenerator import *\n",
    "# from SvdFeatureGenerator import *\n",
    "# from AlignmentFeatureGenerator import *\n",
    "from Word2VecFeatureGenerator import *\n",
    "from SentimentFeatureGenerator import *\n",
    "from ReadabilityFeatureGenerator import *"
   ]
  },
  {
   "cell_type": "markdown",
   "metadata": {},
   "source": [
    "## Load the preprocessed pickle data"
   ]
  },
  {
   "cell_type": "code",
   "execution_count": 2,
   "metadata": {
    "scrolled": true
   },
   "outputs": [
    {
     "name": "stdout",
     "output_type": "stream",
     "text": [
      "Data loaded\n",
      "data.shape:  (11161, 10)\n"
     ]
    }
   ],
   "source": [
    "with open('../saved_data/data.pkl', 'rb') as infile:\n",
    "    data = pickle.load(infile)\n",
    "    print ('Data loaded')\n",
    "    print ('data.shape: ', data.shape)"
   ]
  },
  {
   "cell_type": "code",
   "execution_count": 3,
   "metadata": {},
   "outputs": [
    {
     "name": "stdout",
     "output_type": "stream",
     "text": [
      "<class 'pandas.core.frame.DataFrame'>\n",
      "RangeIndex: 11161 entries, 0 to 11160\n",
      "Data columns (total 10 columns):\n",
      "type                   11161 non-null object\n",
      "articleBody            11161 non-null object\n",
      "Headline               11161 non-null object\n",
      "target                 11161 non-null int64\n",
      "Headline_unigram       11161 non-null object\n",
      "articleBody_unigram    11161 non-null object\n",
      "Headline_bigram        11161 non-null object\n",
      "articleBody_bigram     11161 non-null object\n",
      "Headline_trigram       11161 non-null object\n",
      "articleBody_trigram    11161 non-null object\n",
      "dtypes: int64(1), object(9)\n",
      "memory usage: 872.0+ KB\n"
     ]
    }
   ],
   "source": [
    "data.info()"
   ]
  },
  {
   "cell_type": "markdown",
   "metadata": {},
   "source": [
    "## For Count Features"
   ]
  },
  {
   "cell_type": "code",
   "execution_count": 3,
   "metadata": {
    "scrolled": true
   },
   "outputs": [
    {
     "name": "stdout",
     "output_type": "stream",
     "text": [
      "\n",
      "---Generating Counting Features:---\n",
      "\n",
      "xBasicCounts.shape: (11161, 41)\n",
      "basic counting features saved in basic.pkl\n",
      "\n",
      "---Counting Features is complete---\n",
      "Time taken 14.391522645950317 seconds\n",
      "\n"
     ]
    },
    {
     "data": {
      "text/plain": [
       "1"
      ]
     },
     "execution_count": 3,
     "metadata": {},
     "output_type": "execute_result"
    }
   ],
   "source": [
    "countFG = CountFeatureGenerator()\n",
    "countFG.process(data)"
   ]
  },
  {
   "cell_type": "markdown",
   "metadata": {},
   "source": [
    "## For TfIdf Features"
   ]
  },
  {
   "cell_type": "code",
   "execution_count": 3,
   "metadata": {},
   "outputs": [
    {
     "name": "stdout",
     "output_type": "stream",
     "text": [
      "\n",
      "---Generating TFIDF Features:---\n",
      "\n",
      "\n",
      "length of vocabulary: 859153\n",
      "Vocabulary vector saved!\n",
      "\n",
      "xHeadlineTfidf.shape:  (11161, 859153)\n",
      "xBodyTfidf.shape:  (11161, 859153)\n",
      "simTfidf.shape:  (11161, 1)\n",
      "tfidf similarities features saved in sim.tfidf.pkl\n",
      "\n",
      "---TFIDF Features is complete---\n",
      "Time taken 49.64220905303955 seconds\n",
      "\n"
     ]
    },
    {
     "data": {
      "text/plain": [
       "1"
      ]
     },
     "execution_count": 3,
     "metadata": {},
     "output_type": "execute_result"
    }
   ],
   "source": [
    "tfidfFG = TfidfFeatureGenerator()\n",
    "tfidfFG.process(data)"
   ]
  },
  {
   "cell_type": "markdown",
   "metadata": {},
   "source": [
    "## For Readability Features"
   ]
  },
  {
   "cell_type": "code",
   "execution_count": 3,
   "metadata": {},
   "outputs": [
    {
     "name": "stdout",
     "output_type": "stream",
     "text": [
      "\n",
      "---Generating Readability Features:---\n",
      "\n",
      "readable features saved in read.pkl\n",
      "\n",
      "---Readability Features is complete---\n",
      "Time taken 445.5904552936554 seconds\n",
      "\n"
     ]
    },
    {
     "data": {
      "text/plain": [
       "1"
      ]
     },
     "execution_count": 3,
     "metadata": {},
     "output_type": "execute_result"
    }
   ],
   "source": [
    "readFG = ReadabilityFeatureGenerator()\n",
    "readFG.process(data)"
   ]
  },
  {
   "cell_type": "markdown",
   "metadata": {},
   "source": [
    "## For Svd Features"
   ]
  },
  {
   "cell_type": "code",
   "execution_count": 3,
   "metadata": {
    "collapsed": true
   },
   "outputs": [
    {
     "name": "stdout",
     "output_type": "stream",
     "text": [
      "SvdFeatureGenerator, n_train: 49972\n",
      "SvdFeatureGenerator, n_test: 25413\n",
      "xHeadlineTfidf.shape:\n",
      "(49972, 769582)\n",
      "xBodyTfidf.shape:\n",
      "(49972, 769582)\n",
      "simTfidf.shape:\n",
      "(49972, 1)\n",
      "xHeadlineTfidf.shape:\n",
      "(25413, 769582)\n",
      "xBodyTfidf.shape:\n",
      "(25413, 769582)\n",
      "simTfidf.shape:\n",
      "(25413, 1)\n",
      "xHeadlineTfidf.shape:\n",
      "(75385, 769582)\n",
      "xHeadlineSvd.shape:\n",
      "(75385, 50)\n",
      "headline svd features of training set saved in train.headline.svd.pkl\n",
      "headline svd features of test set saved in test.headline.svd.pkl\n",
      "xBodySvd.shape:\n",
      "(75385, 50)\n",
      "body svd features of training set saved in train.body.svd.pkl\n",
      "body svd features of test set saved in test.body.svd.pkl\n",
      "simSvd.shape:\n",
      "(75385, 1)\n",
      "svd sim. features of training set saved in train.sim.svd.pkl\n",
      "svd sim. features of test set saved in test.sim.svd.pkl\n"
     ]
    },
    {
     "data": {
      "text/plain": [
       "1"
      ]
     },
     "execution_count": 3,
     "metadata": {},
     "output_type": "execute_result"
    }
   ],
   "source": [
    "svdFG = SvdFeatureGenerator()\n",
    "svdFG.process(data)"
   ]
  },
  {
   "cell_type": "markdown",
   "metadata": {},
   "source": [
    "## For Sentiment Features"
   ]
  },
  {
   "cell_type": "code",
   "execution_count": 3,
   "metadata": {},
   "outputs": [
    {
     "name": "stdout",
     "output_type": "stream",
     "text": [
      "\n",
      "---Generating Sentiment Features:---\n",
      "\n",
      "for headline\n",
      "headlineSenti.shape: (11161, 4)\n",
      "headline sentiment features saved in headline.senti.pkl\n",
      "headine sentiment done\n",
      "for body\n",
      "bodySenti.shape: (11161, 4)\n",
      "body sentiment features saved in body.senti.pkl\n",
      "body senti done\n",
      "\n",
      "---Sentiment Features is complete---\n",
      "Time taken 75.04255223274231 seconds\n",
      "\n"
     ]
    },
    {
     "data": {
      "text/plain": [
       "1"
      ]
     },
     "execution_count": 3,
     "metadata": {},
     "output_type": "execute_result"
    }
   ],
   "source": [
    "sentiFG = SentimentFeatureGenerator()\n",
    "sentiFG.process(data)"
   ]
  },
  {
   "cell_type": "markdown",
   "metadata": {},
   "source": [
    "## For Word2Vec Features"
   ]
  },
  {
   "cell_type": "code",
   "execution_count": 3,
   "metadata": {},
   "outputs": [
    {
     "name": "stdout",
     "output_type": "stream",
     "text": [
      "\n",
      "---Generating Word2Vector Features:---\n",
      "\n",
      "model loaded\n",
      "headlineVec.shape (11161, 50)\n",
      "headline word2vec features saved in headline.word2vec.pkl\n",
      "headine done\n",
      "bodyVec.shape:  (11161, 50)\n",
      "body word2vec features saved in body.word2vec.pkl\n",
      "body done\n",
      "simVec.shape: (11161, 1)\n",
      "word2vec similarities features set saved in sim.word2vec.pkl\n",
      "\n",
      "---Word2Vector Features is complete---\n",
      "Time taken 33.72060823440552 seconds\n",
      "\n"
     ]
    },
    {
     "data": {
      "text/plain": [
       "1"
      ]
     },
     "execution_count": 3,
     "metadata": {},
     "output_type": "execute_result"
    }
   ],
   "source": [
    "# The embedding matrix is in 50 dimensions for each word.\n",
    "word2vecFG = Word2VecFeatureGenerator()\n",
    "word2vecFG.process(data)"
   ]
  },
  {
   "cell_type": "markdown",
   "metadata": {},
   "source": [
    "## Next Step>>> Train Models"
   ]
  },
  {
   "cell_type": "code",
   "execution_count": null,
   "metadata": {},
   "outputs": [],
   "source": []
  }
 ],
 "metadata": {
  "kernelspec": {
   "display_name": "Python 3",
   "language": "python",
   "name": "python3"
  },
  "language_info": {
   "codemirror_mode": {
    "name": "ipython",
    "version": 3
   },
   "file_extension": ".py",
   "mimetype": "text/x-python",
   "name": "python",
   "nbconvert_exporter": "python",
   "pygments_lexer": "ipython3",
   "version": "3.6.6"
  }
 },
 "nbformat": 4,
 "nbformat_minor": 2
}
