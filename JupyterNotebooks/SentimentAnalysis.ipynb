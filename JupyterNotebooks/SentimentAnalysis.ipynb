{
 "cells": [
  {
   "cell_type": "markdown",
   "metadata": {},
   "source": [
    "# Sentiment Analysis of Fake News\n"
   ]
  },
  {
   "cell_type": "markdown",
   "metadata": {},
   "source": [
    "#### STEP 1 : Importing python libraries\n"
   ]
  },
  {
   "cell_type": "code",
   "execution_count": 429,
   "metadata": {},
   "outputs": [
    {
     "name": "stdout",
     "output_type": "stream",
     "text": [
      "--> libraries loaded.\n"
     ]
    }
   ],
   "source": [
    "import pandas as pd\n",
    "import json\n",
    "import matplotlib.pyplot as plt\n",
    "import seaborn as sns\n",
    "import glob\n",
    "from watson_developer_cloud import ToneAnalyzerV3 # pip install --upgrade \"watson-developer-cloud>=2.1.0\"\n",
    "\n",
    "%matplotlib inline\n",
    "\n",
    "print (\"--> libraries loaded.\")"
   ]
  },
  {
   "cell_type": "markdown",
   "metadata": {},
   "source": [
    "#### STEP 2 : Initial setup"
   ]
  },
  {
   "cell_type": "code",
   "execution_count": 394,
   "metadata": {},
   "outputs": [
    {
     "name": "stdout",
     "output_type": "stream",
     "text": [
      "--> variables initialized.\n",
      "--> functions loaded.\n"
     ]
    }
   ],
   "source": [
    "sns.set(color_codes=True)\n",
    "\n",
    "tone_analyzer = ToneAnalyzerV3(\n",
    "                    username = \"404c0d53-3afa-4c6a-8029-9abda9feb22f\",\n",
    "                    password = \"MTOG8sOMMPm4\",\n",
    "                    version='2017-09-21')\n",
    "\n",
    "columns = ['id', 'Anger', 'Fear', 'Joy', 'Sadness', 'Analytical', 'Confident', 'Tentative']\n",
    "output = pd.DataFrame(columns=columns)\n",
    "\n",
    "dataset_path = \"/home/robomex/dataset/dataset_9/\"\n",
    "\n",
    "print (\"--> variables initialized.\")\n",
    "\n",
    "class Dataset(object):\n",
    "    def __init__(self, name, pd):\n",
    "        self.name = name\n",
    "        self.pd = pd\n",
    "        \n",
    "        \n",
    "dataset_objects = []\n",
    "analysis_objects = []\n",
    "\n",
    "def get_analyzed_dataframe(text, index):\n",
    "    tone = tone_analyzer.tone(\n",
    "                {'text': text},\n",
    "                'application/json'\n",
    "            ).get_result()\n",
    "\n",
    "    d = {'id': [index], 'Anger': [0], 'Fear': [0], 'Joy': [0], 'Sadness': [0], 'Analytical': [0], 'Confident': [0],'Tentative': [0]}\n",
    "    \n",
    "    # add scores in a dictionary\n",
    "    for i in tone['document_tone']['tones']:\n",
    "        d[i['tone_name']] = [i['score']]\n",
    "\n",
    "    return pd.DataFrame(d)\n",
    "\n",
    "print('--> functions loaded.')"
   ]
  },
  {
   "cell_type": "markdown",
   "metadata": {},
   "source": [
    "#### STEP 3 : Dataset loading"
   ]
  },
  {
   "cell_type": "code",
   "execution_count": 395,
   "metadata": {
    "scrolled": true
   },
   "outputs": [
    {
     "name": "stdout",
     "output_type": "stream",
     "text": [
      "--> loading dataset...\n",
      "12 number of files found.\n",
      "--> dataset has been loaded.\n"
     ]
    }
   ],
   "source": [
    "print(\"--> loading dataset...\")\n",
    "csv_files = glob.glob(dataset_path +\"*.csv\")\n",
    "print(str(len(csv_files)) + \" number of files found.\")\n",
    "\n",
    "for file in csv_files:\n",
    "    dataset_objects.append(Dataset(str(file).replace(dataset_path,\"\"), pd.DataFrame()))\n",
    "    analysis_objects.append(Dataset(str(file).replace(dataset_path,\"\"), pd.DataFrame()))\n",
    "\n",
    "for obj in dataset_objects:\n",
    "    obj.pd = pd.read_csv(file)\n",
    "    obj.pd.drop(columns=['Unnamed: 0', 'Unnamed: 0.1', 'id', 'Unnamed:17'], inplace=True)\n",
    "    obj.pd.columns = dataset.columns.str.replace('scraped_at','articles')\n",
    "\n",
    "print(\"--> dataset has been loaded.\")"
   ]
  },
  {
   "cell_type": "markdown",
   "metadata": {},
   "source": [
    "#### STEP 3 : Sentiment Analysis using IBM Watson Tone Analyzer"
   ]
  },
  {
   "cell_type": "code",
   "execution_count": 396,
   "metadata": {},
   "outputs": [
    {
     "name": "stdout",
     "output_type": "stream",
     "text": [
      "--> Performing sentiment analysis of articles from each files...\n",
      "unreliable_mini.csv file has been processed.\n",
      "junksci_mini.csv file has been processed.\n",
      "fake_mini.csv file has been processed.\n",
      "conspiracy_mini.csv file has been processed.\n",
      "satire_mini.csv file has been processed.\n",
      "political_mini.csv file has been processed.\n",
      "hate_mini.csv file has been processed.\n",
      "clickbait_mini.csv file has been processed.\n",
      "reliable_mini.csv file has been processed.\n",
      "unknown_mini.csv file has been processed.\n",
      "rumor_mini.csv file has been processed.\n",
      "bias_mini.csv file has been processed.\n",
      "--> analysis done.\n"
     ]
    }
   ],
   "source": [
    "print(\"--> Performing sentiment analysis of articles from each files...\")\n",
    "\n",
    "for (data, output) in zip(dataset_objects, analysis_objects):\n",
    "    # fetch ten articles and find analysis score\n",
    "    for i in range(1,11):\n",
    "        output.pd = output.pd.append(get_analyzed_dataframe(data.pd.articles[i], i), sort=True)\n",
    "    output.pd.reset_index()\n",
    "    output\n",
    "    \n",
    "    print(str(data.name) + \" file has been processed.\")\n",
    "\n",
    "print(\"--> analysis done.\")"
   ]
  },
  {
   "cell_type": "markdown",
   "metadata": {},
   "source": [
    "#### STEP 4 : Graph plotting"
   ]
  },
  {
   "cell_type": "code",
   "execution_count": 418,
   "metadata": {},
   "outputs": [
    {
     "data": {
      "image/png": "[encoded data removed]",
      "text/plain": [
       "<Figure size 432x288 with 24 Axes>"
      ]
     },
     "metadata": {
      "needs_background": "light"
     },
     "output_type": "display_data"
    },
    {
     "data": {
      "text/plain": [
       "<Figure size 720x720 with 0 Axes>"
      ]
     },
     "metadata": {},
     "output_type": "display_data"
    }
   ],
   "source": [
    "print(\"--> plotting graph...\")\n",
    "\n",
    "for output in analysis_objects:\n",
    "    labels = 'Anger', 'Fear', 'Joy', 'Sadness', 'Analytical', 'Confident', 'Tentative'\n",
    "    output = output.pd\n",
    "    sizes = [sum(output.Fear), sum(output.Anger), sum(output.Joy), sum(output.Sadness), sum(output.Analytical), sum(output.Confident), sum(output.Tentative)]\n",
    "\n",
    "    ax.pie(sizes, explode=None, labels=labels, autopct='%1.1f%%',\n",
    "            shadow=True, startangle=90)\n",
    "    ax.axis('equal')  # Equal aspect ratio ensures that pie is drawn as a circle.\n",
    "\n",
    "plt.show()\n",
    "\n",
    "print(\"--> graph plotted.\")"
   ]
  },
  {
   "cell_type": "markdown",
   "metadata": {},
   "source": [
    "#### STEP 5 : Saving data"
   ]
  },
  {
   "cell_type": "code",
   "execution_count": 430,
   "metadata": {},
   "outputs": [
    {
     "name": "stdout",
     "output_type": "stream",
     "text": [
      "--> saving data...\n",
      "--> data has been saved.\n"
     ]
    }
   ],
   "source": [
    "print(\"--> saving data...\")\n",
    "for data in analysis_objects:\n",
    "    data.pd.to_csv(dataset_path + \"analysis/\"+ str(data.name).replace(\".csv\",\"\") + \"_analysis.csv\")\n",
    "    \n",
    "print(\"--> data has been saved.\")"
   ]
  }
 ],
 "metadata": {
  "kernelspec": {
   "display_name": "Python 3",
   "language": "python",
   "name": "python3"
  },
  "language_info": {
   "codemirror_mode": {
    "name": "ipython",
    "version": 3
   },
   "file_extension": ".py",
   "mimetype": "text/x-python",
   "name": "python",
   "nbconvert_exporter": "python",
   "pygments_lexer": "ipython3",
   "version": "3.6.5"
  }
 },
 "nbformat": 4,
 "nbformat_minor": 2
}
