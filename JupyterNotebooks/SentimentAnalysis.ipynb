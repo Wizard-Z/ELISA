{
 "cells": [
  {
   "cell_type": "markdown",
   "metadata": {},
   "source": [
    "# Sentiment Analysis of Fake News\n"
   ]
  },
  {
   "cell_type": "markdown",
   "metadata": {},
   "source": [
    "#### STEP 1 : Importing python libraries\n"
   ]
  },
  {
   "cell_type": "code",
   "execution_count": 64,
   "metadata": {},
   "outputs": [
    {
     "name": "stdout",
     "output_type": "stream",
     "text": [
      "--> loaded libraries..\n"
     ]
    }
   ],
   "source": [
    "import pandas as pd\n",
    "from watson_developer_cloud import ToneAnalyzerV3\n",
    "import json\n",
    "\n",
    "print (\"--> loaded libraries..\")"
   ]
  },
  {
   "cell_type": "markdown",
   "metadata": {},
   "source": [
    "#### STEP 2 : Initial setup"
   ]
  },
  {
   "cell_type": "code",
   "execution_count": 253,
   "metadata": {},
   "outputs": [
    {
     "name": "stdout",
     "output_type": "stream",
     "text": [
      "--> variables initialized...\n"
     ]
    }
   ],
   "source": [
    "dataset = pd.read_csv('/home/robomex/dataset/dataset_9/fake_mini.csv')\n",
    "dataset.drop(columns=['Unnamed: 0', 'Unnamed: 0.1', 'id', 'Unnamed:17'], inplace=True)\n",
    "dataset.columns = dataset.columns.str.replace('scraped_at','articles')\n",
    "tone_analyzer = ToneAnalyzerV3(\n",
    "                    username = \"404c0d53-3afa-4c6a-8029-9abda9feb22f\",\n",
    "                    password = \"MTOG8sOMMPm4\",\n",
    "                    version='2017-09-21')\n",
    "columns = ['id', 'Anger', 'Fear', 'Joy', 'Sadness', 'Analytical', 'Confident', 'Tentative']\n",
    "output = pd.DataFrame(columns=columns)\n",
    "print (\"--> variables initialized...\")"
   ]
  },
  {
   "cell_type": "markdown",
   "metadata": {},
   "source": [
    "#### STEP 3 : Sentiment Analysis using IBM Watson Tone Analyzer"
   ]
  },
  {
   "cell_type": "code",
   "execution_count": 254,
   "metadata": {},
   "outputs": [],
   "source": [
    "def get_analyzed_dataframe(text, index):\n",
    "    tone = tone_analyzer.tone(\n",
    "                {'text': text},\n",
    "                'application/json'\n",
    "            ).get_result()\n",
    "\n",
    "    d = {'id': [index], 'Anger': [0], 'Fear': [0], 'Joy': [0], 'Sadness': [0], 'Analytical': [0], 'Confident': [0],'Tentative': [0]}\n",
    "    \n",
    "    # add scores in a dictionary\n",
    "    for i in tone['document_tone']['tones']:\n",
    "        d[i['tone_name']] = [i['score']]\n",
    "\n",
    "    return pd.DataFrame(d)"
   ]
  },
  {
   "cell_type": "code",
   "execution_count": 255,
   "metadata": {},
   "outputs": [
    {
     "data": {
      "text/html": [
       "<div>\n",
       "<style scoped>\n",
       "    .dataframe tbody tr th:only-of-type {\n",
       "        vertical-align: middle;\n",
       "    }\n",
       "\n",
       "    .dataframe tbody tr th {\n",
       "        vertical-align: top;\n",
       "    }\n",
       "\n",
       "    .dataframe thead th {\n",
       "        text-align: right;\n",
       "    }\n",
       "</style>\n",
       "<table border=\"1\" class=\"dataframe\">\n",
       "  <thead>\n",
       "    <tr style=\"text-align: right;\">\n",
       "      <th></th>\n",
       "      <th>Analytical</th>\n",
       "      <th>Anger</th>\n",
       "      <th>Confident</th>\n",
       "      <th>Fear</th>\n",
       "      <th>Joy</th>\n",
       "      <th>Sadness</th>\n",
       "      <th>Tentative</th>\n",
       "      <th>id</th>\n",
       "    </tr>\n",
       "  </thead>\n",
       "  <tbody>\n",
       "    <tr>\n",
       "      <th>0</th>\n",
       "      <td>0.774700</td>\n",
       "      <td>0.500013</td>\n",
       "      <td>0</td>\n",
       "      <td>0.611546</td>\n",
       "      <td>0</td>\n",
       "      <td>0.539330</td>\n",
       "      <td>0.515356</td>\n",
       "      <td>1</td>\n",
       "    </tr>\n",
       "    <tr>\n",
       "      <th>0</th>\n",
       "      <td>0.000000</td>\n",
       "      <td>0.000000</td>\n",
       "      <td>0</td>\n",
       "      <td>0.000000</td>\n",
       "      <td>0.607295</td>\n",
       "      <td>0.590049</td>\n",
       "      <td>0.554307</td>\n",
       "      <td>2</td>\n",
       "    </tr>\n",
       "    <tr>\n",
       "      <th>0</th>\n",
       "      <td>0.000000</td>\n",
       "      <td>0.000000</td>\n",
       "      <td>0</td>\n",
       "      <td>0.000000</td>\n",
       "      <td>0.603601</td>\n",
       "      <td>0.000000</td>\n",
       "      <td>0.000000</td>\n",
       "      <td>3</td>\n",
       "    </tr>\n",
       "    <tr>\n",
       "      <th>0</th>\n",
       "      <td>0.796518</td>\n",
       "      <td>0.000000</td>\n",
       "      <td>0</td>\n",
       "      <td>0.000000</td>\n",
       "      <td>0</td>\n",
       "      <td>0.000000</td>\n",
       "      <td>0.668336</td>\n",
       "      <td>4</td>\n",
       "    </tr>\n",
       "    <tr>\n",
       "      <th>0</th>\n",
       "      <td>0.508946</td>\n",
       "      <td>0.000000</td>\n",
       "      <td>0</td>\n",
       "      <td>0.607824</td>\n",
       "      <td>0.502397</td>\n",
       "      <td>0.543475</td>\n",
       "      <td>0.000000</td>\n",
       "      <td>5</td>\n",
       "    </tr>\n",
       "    <tr>\n",
       "      <th>0</th>\n",
       "      <td>0.836891</td>\n",
       "      <td>0.000000</td>\n",
       "      <td>0</td>\n",
       "      <td>0.000000</td>\n",
       "      <td>0.550969</td>\n",
       "      <td>0.000000</td>\n",
       "      <td>0.000000</td>\n",
       "      <td>6</td>\n",
       "    </tr>\n",
       "    <tr>\n",
       "      <th>0</th>\n",
       "      <td>0.826949</td>\n",
       "      <td>0.000000</td>\n",
       "      <td>0</td>\n",
       "      <td>0.000000</td>\n",
       "      <td>0</td>\n",
       "      <td>0.542852</td>\n",
       "      <td>0.000000</td>\n",
       "      <td>7</td>\n",
       "    </tr>\n",
       "    <tr>\n",
       "      <th>0</th>\n",
       "      <td>0.611826</td>\n",
       "      <td>0.000000</td>\n",
       "      <td>0</td>\n",
       "      <td>0.000000</td>\n",
       "      <td>0.546519</td>\n",
       "      <td>0.556129</td>\n",
       "      <td>0.000000</td>\n",
       "      <td>8</td>\n",
       "    </tr>\n",
       "    <tr>\n",
       "      <th>0</th>\n",
       "      <td>0.000000</td>\n",
       "      <td>0.503761</td>\n",
       "      <td>0</td>\n",
       "      <td>0.000000</td>\n",
       "      <td>0</td>\n",
       "      <td>0.000000</td>\n",
       "      <td>0.689515</td>\n",
       "      <td>9</td>\n",
       "    </tr>\n",
       "    <tr>\n",
       "      <th>0</th>\n",
       "      <td>0.000000</td>\n",
       "      <td>0.000000</td>\n",
       "      <td>0</td>\n",
       "      <td>0.000000</td>\n",
       "      <td>0.529791</td>\n",
       "      <td>0.503623</td>\n",
       "      <td>0.630411</td>\n",
       "      <td>10</td>\n",
       "    </tr>\n",
       "  </tbody>\n",
       "</table>\n",
       "</div>"
      ],
      "text/plain": [
       "   Analytical     Anger Confident      Fear       Joy   Sadness  Tentative  id\n",
       "0    0.774700  0.500013         0  0.611546         0  0.539330   0.515356   1\n",
       "0    0.000000  0.000000         0  0.000000  0.607295  0.590049   0.554307   2\n",
       "0    0.000000  0.000000         0  0.000000  0.603601  0.000000   0.000000   3\n",
       "0    0.796518  0.000000         0  0.000000         0  0.000000   0.668336   4\n",
       "0    0.508946  0.000000         0  0.607824  0.502397  0.543475   0.000000   5\n",
       "0    0.836891  0.000000         0  0.000000  0.550969  0.000000   0.000000   6\n",
       "0    0.826949  0.000000         0  0.000000         0  0.542852   0.000000   7\n",
       "0    0.611826  0.000000         0  0.000000  0.546519  0.556129   0.000000   8\n",
       "0    0.000000  0.503761         0  0.000000         0  0.000000   0.689515   9\n",
       "0    0.000000  0.000000         0  0.000000  0.529791  0.503623   0.630411  10"
      ]
     },
     "execution_count": 255,
     "metadata": {},
     "output_type": "execute_result"
    }
   ],
   "source": [
    "for i in range(1,11):\n",
    "    output = output.append(get_analyzed_dataframe(dataset.articles[i], i), sort=True)\n",
    "\n",
    "output.reset_index()\n",
    "output"
   ]
  },
  {
   "cell_type": "code",
   "execution_count": 251,
   "metadata": {},
   "outputs": [],
   "source": []
  }
 ],
 "metadata": {
  "kernelspec": {
   "display_name": "Python 3",
   "language": "python",
   "name": "python3"
  },
  "language_info": {
   "codemirror_mode": {
    "name": "ipython",
    "version": 3
   },
   "file_extension": ".py",
   "mimetype": "text/x-python",
   "name": "python",
   "nbconvert_exporter": "python",
   "pygments_lexer": "ipython3",
   "version": "3.6.5"
  }
 },
 "nbformat": 4,
 "nbformat_minor": 2
}
