{
 "cells": [
  {
   "cell_type": "code",
   "execution_count": 1,
   "metadata": {},
   "outputs": [
    {
     "name": "stderr",
     "output_type": "stream",
     "text": [
      "/home/sourabh/anaconda3/envs/py36/lib/python3.6/site-packages/nltk/twitter/__init__.py:20: UserWarning: The twython library has not been installed. Some functionality from the twitter package will not be available.\n",
      "  warnings.warn(\"The twython library has not been installed. \"\n"
     ]
    },
    {
     "name": "stdout",
     "output_type": "stream",
     "text": [
      "[nltk_data] Downloading package vader_lexicon to\n",
      "[nltk_data]     /home/sourabh/nltk_data...\n",
      "[nltk_data]   Package vader_lexicon is already up-to-date!\n",
      "Done\n"
     ]
    }
   ],
   "source": [
    "# install needed Packages\n",
    "import nltk\n",
    "from nltk.tokenize import word_tokenize\n",
    "import textstat\n",
    "from nltk.sentiment.vader import SentimentIntensityAnalyzer\n",
    "nltk.download('vader_lexicon')\n",
    "from nltk.probability import FreqDist\n",
    "from nltk.corpus import stopwords\n",
    "import re\n",
    "import spacy\n",
    "from spacy import displacy\n",
    "import json\n",
    "nlp = spacy.load('en_core_web_sm')\n",
    "print('Done')"
   ]
  },
  {
   "cell_type": "markdown",
   "metadata": {},
   "source": [
    "**Functions**+\n"
   ]
  },
  {
   "cell_type": "code",
   "execution_count": 51,
   "metadata": {},
   "outputs": [],
   "source": [
    "def lexical_diversity(text):\n",
    "    word_count = len(text)\n",
    "    vocab_size = len(set(text))\n",
    "    diversity_score = word_count / vocab_size\n",
    "    return diversity_score\n",
    "\n",
    "\n",
    "def freq_dist_sentence(text,stop_flag = False):\n",
    "    '''\n",
    "    Returns word count for Each Sentence\n",
    "    '''\n",
    "    tokenized_word = word_tokenize(text.lower())\n",
    "    if stop_flag:\n",
    "        stop_words=set(stopwords.words(\"english\"))\n",
    "        tokenized_word = [x for x in tokenized_word if (x not in stop_words and x.isalpha())]\n",
    "    fdist = FreqDist(tokenized_word)\n",
    "    return fdist\n",
    "\n",
    "def polarity_sc(text):\n",
    "    sid = SentimentIntensityAnalyzer()\n",
    "    scores = sid.polarity_scores(text)\n",
    "    return scores\n",
    "\n",
    "def reading_standard(text):\n",
    "    x = textstat.text_standard(text)\n",
    "    match = re.search(r'(.?\\d+)th(\\s\\w{3}\\s((.?\\d+)))?',x)\n",
    "    r_stan = []\n",
    "    if match:\n",
    "        r_stan.append(match.group(1))\n",
    "        r_stan.append(match.group(3))\n",
    "    return r_stan\n",
    "\n",
    "def spacy_vizualizer(title,text):\n",
    "    text = nlp(text)\n",
    "    title = nlp(title)\n",
    "    html_dep = displacy.render(title, style = 'dep', minify = True)\n",
    "    html_ent = displacy.render(text, style = 'ent', minify = True)\n",
    "    return (html_dep, html_ent)   \n",
    "    \n",
    "\n",
    "def get_article_features(title, text):\n",
    "    result = {}\n",
    "    Result = []\n",
    "    result['lexical_diversity'] = lexical_diversity(text)\n",
    "    result['word_dist'] = freq_dist_sentence(text).most_common()\n",
    "    result['word_dist_without_stopwords'] = freq_dist_sentence(text,stop_flag=True)\n",
    "    result['polarity_title_pos'] = polarity_sc(title)['pos']\n",
    "    result['polarity_title_neg'] = polarity_sc(title)['neg']\n",
    "    result['polarity_title_neu'] = polarity_sc(title)['neu']\n",
    "    result['reading_standard'] = reading_standard(text)\n",
    "    result['dependency_html'],result['ner_html'] = spacy_vizualizer(title,text)\n",
    "    Result.append(result)# list of Dictionaries\n",
    "    json_result = json.dumps(Result)\n",
    "    return json_result\n",
    "    "
   ]
  },
  {
   "cell_type": "code",
   "execution_count": 18,
   "metadata": {},
   "outputs": [],
   "source": [
    "response = get_article_features(title,text)"
   ]
  },
  {
   "cell_type": "code",
   "execution_count": 19,
   "metadata": {},
   "outputs": [
    {
     "data": {
      "text/plain": [
       "'[{\"lexical_diversity\": 12.033333333333333, \"word_dist\": [[\".\", 6], [\"the\", 5], [\",\", 4], [\"aneurysms\", 2], [\"often\", 2], [\"in\", 2], [\"of\", 2], [\"aneurysm\", 2], [\"can\", 2], [\"and\", 2], [\"occur\", 1], [\"aorta\", 1], [\"brain\", 1], [\"back\", 1], [\"knee\", 1], [\"intestine\", 1], [\"or\", 1], [\"spleen\", 1], [\"a\", 1], [\"ruptured\", 1], [\"result\", 1], [\"internal\", 1], [\"bleeding\", 1], [\"stroke\", 1], [\"it\", 1], [\"sometimes\", 1], [\"be\", 1], [\"fatal\", 1], [\"have\", 1], [\"no\", 1], [\"symptoms\", 1], [\"until\", 1], [\"they\", 1], [\"rupture\", 1], [\"treatment\", 1], [\"varies\", 1], [\"from\", 1], [\"watchful\", 1], [\"waiting\", 1], [\"to\", 1], [\"emergency\", 1], [\"surgery\", 1], [\"choice\", 1], [\"depends\", 1], [\"on\", 1], [\"location\", 1], [\"size\", 1], [\"condition\", 1]], \"word_dist_without_stopwords\": {\"aneurysms\": 2, \"often\": 2, \"occur\": 1, \"aorta\": 1, \"brain\": 1, \"back\": 1, \"knee\": 1, \"intestine\": 1, \"spleen\": 1, \"ruptured\": 1, \"aneurysm\": 2, \"result\": 1, \"internal\": 1, \"bleeding\": 1, \"stroke\": 1, \"sometimes\": 1, \"fatal\": 1, \"symptoms\": 1, \"rupture\": 1, \"treatment\": 1, \"varies\": 1, \"watchful\": 1, \"waiting\": 1, \"emergency\": 1, \"surgery\": 1, \"choice\": 1, \"depends\": 1, \"location\": 1, \"size\": 1, \"condition\": 1}, \"polarity_title_pos\": 0.0, \"polarity_title_neg\": 0.0, \"polarity_title_neu\": 1.0, \"reading_standard\": [\"8\", \"9\"], \"dependency_html\": \"<svg xmlns=\\\\\"http://www.w3.org/2000/svg\\\\\" xmlns:xlink=\\\\\"http://www.w3.org/1999/xlink\\\\\" id=\\\\\"0\\\\\" class=\\\\\"displacy\\\\\" width=\\\\\"225\\\\\" height=\\\\\"137.0\\\\\" style=\\\\\"max-width: none; height: 137.0px; color: #000000; background: #ffffff; font-family: Arial\\\\\"><text class=\\\\\"displacy-token\\\\\" fill=\\\\\"currentColor\\\\\" text-anchor=\\\\\"middle\\\\\" y=\\\\\"47.0\\\\\"><tspan class=\\\\\"displacy-word\\\\\" fill=\\\\\"currentColor\\\\\" x=\\\\\"50\\\\\">Aneurysm</tspan><tspan class=\\\\\"displacy-tag\\\\\" dy=\\\\\"2em\\\\\" fill=\\\\\"currentColor\\\\\" x=\\\\\"50\\\\\">PROPN</tspan></text></svg>\", \"ner_html\": \"<div class=\\\\\"entities\\\\\" style=\\\\\"line-height: 2.5\\\\\"><mark class=\\\\\"entity\\\\\" style=\\\\\"background: #feca74; padding: 0.45em 0.6em; margin: 0 0.25em; line-height: 1; border-radius: 0.35em; box-decoration-break: clone; -webkit-box-decoration-break: clone\\\\\"><span style=\\\\\"font-size: 0.8em; font-weight: bold; line-height: 1; border-radius: 0.35em; text-transform: uppercase; vertical-align: middle; margin-left: 0.5rem\\\\\">GPE</span></mark><mark class=\\\\\"entity\\\\\" style=\\\\\"background: #c887fb; padding: 0.45em 0.6em; margin: 0 0.25em; line-height: 1; border-radius: 0.35em; box-decoration-break: clone; -webkit-box-decoration-break: clone\\\\\">Aneurysms<span style=\\\\\"font-size: 0.8em; font-weight: bold; line-height: 1; border-radius: 0.35em; text-transform: uppercase; vertical-align: middle; margin-left: 0.5rem\\\\\">NORP</span></mark> often occur in the aorta, brain, back of the knee, intestine or spleen. <mark class=\\\\\"entity\\\\\" style=\\\\\"background: #feca74; padding: 0.45em 0.6em; margin: 0 0.25em; line-height: 1; border-radius: 0.35em; box-decoration-break: clone; -webkit-box-decoration-break: clone\\\\\"><span style=\\\\\"font-size: 0.8em; font-weight: bold; line-height: 1; border-radius: 0.35em; text-transform: uppercase; vertical-align: middle; margin-left: 0.5rem\\\\\">GPE</span></mark>A ruptured aneurysm can result in internal bleeding and stroke. It can sometimes be fatal.<mark class=\\\\\"entity\\\\\" style=\\\\\"background: #feca74; padding: 0.45em 0.6em; margin: 0 0.25em; line-height: 1; border-radius: 0.35em; box-decoration-break: clone; -webkit-box-decoration-break: clone\\\\\"><span style=\\\\\"font-size: 0.8em; font-weight: bold; line-height: 1; border-radius: 0.35em; text-transform: uppercase; vertical-align: middle; margin-left: 0.5rem\\\\\">GPE</span></mark><mark class=\\\\\"entity\\\\\" style=\\\\\"background: #c887fb; padding: 0.45em 0.6em; margin: 0 0.25em; line-height: 1; border-radius: 0.35em; box-decoration-break: clone; -webkit-box-decoration-break: clone\\\\\">Aneurysms<span style=\\\\\"font-size: 0.8em; font-weight: bold; line-height: 1; border-radius: 0.35em; text-transform: uppercase; vertical-align: middle; margin-left: 0.5rem\\\\\">NORP</span></mark> often have no symptoms until they rupture.<mark class=\\\\\"entity\\\\\" style=\\\\\"background: #feca74; padding: 0.45em 0.6em; margin: 0 0.25em; line-height: 1; border-radius: 0.35em; box-decoration-break: clone; -webkit-box-decoration-break: clone\\\\\"><span style=\\\\\"font-size: 0.8em; font-weight: bold; line-height: 1; border-radius: 0.35em; text-transform: uppercase; vertical-align: middle; margin-left: 0.5rem\\\\\">GPE</span></mark>Treatment varies from watchful waiting to emergency surgery. The choice depends on the location, size and condition of the aneurysm.<mark class=\\\\\"entity\\\\\" style=\\\\\"background: #feca74; padding: 0.45em 0.6em; margin: 0 0.25em; line-height: 1; border-radius: 0.35em; box-decoration-break: clone; -webkit-box-decoration-break: clone\\\\\"><span style=\\\\\"font-size: 0.8em; font-weight: bold; line-height: 1; border-radius: 0.35em; text-transform: uppercase; vertical-align: middle; margin-left: 0.5rem\\\\\">GPE</span></mark></div>\"}]'"
      ]
     },
     "execution_count": 19,
     "metadata": {},
     "output_type": "execute_result"
    }
   ],
   "source": [
    "response"
   ]
  },
  {
   "cell_type": "markdown",
   "metadata": {},
   "source": [
    "# JSON READ"
   ]
  },
  {
   "cell_type": "code",
   "execution_count": 12,
   "metadata": {},
   "outputs": [],
   "source": [
    "# spacy vizuals\n",
    "# most important word\n",
    "# similarity\n",
    "text = '''\n",
    "Aneurysms often occur in the aorta, brain, back of the knee, intestine or spleen. \n",
    "A ruptured aneurysm can result in internal bleeding and stroke. It can sometimes be fatal.\n",
    "Aneurysms often have no symptoms until they rupture.\n",
    "Treatment varies from watchful waiting to emergency surgery. The choice depends on the location, size and condition of the aneurysm.\n",
    "'''\n",
    "title = 'Aneurysm'\n"
   ]
  },
  {
   "cell_type": "code",
   "execution_count": 30,
   "metadata": {},
   "outputs": [],
   "source": [
    "d =json.loads(response)"
   ]
  },
  {
   "cell_type": "code",
   "execution_count": 38,
   "metadata": {},
   "outputs": [
    {
     "data": {
      "text/plain": [
       "'<svg xmlns=\"http://www.w3.org/2000/svg\" xmlns:xlink=\"http://www.w3.org/1999/xlink\" id=\"0\" class=\"displacy\" width=\"225\" height=\"137.0\" style=\"max-width: none; height: 137.0px; color: #000000; background: #ffffff; font-family: Arial\"><text class=\"displacy-token\" fill=\"currentColor\" text-anchor=\"middle\" y=\"47.0\"><tspan class=\"displacy-word\" fill=\"currentColor\" x=\"50\">Aneurysm</tspan><tspan class=\"displacy-tag\" dy=\"2em\" fill=\"currentColor\" x=\"50\">PROPN</tspan></text></svg>'"
      ]
     },
     "execution_count": 38,
     "metadata": {},
     "output_type": "execute_result"
    }
   ],
   "source": [
    "d[0]['dependency_html']\n",
    "'''\n",
    "['lexical_diversity']\n",
    "['word_dist'] \n",
    "['word_dist_without_stopwords']\n",
    "['polarity_title_pos']\n",
    "['polarity_title_neg'] \n",
    "['polarity_title_neu'] \n",
    "['reading_standard']\n",
    "['dependency_html'],['ner_html']\n",
    "'''"
   ]
  },
  {
   "cell_type": "markdown",
   "metadata": {},
   "source": [
    "### Lexical Diversity"
   ]
  },
  {
   "cell_type": "code",
   "execution_count": 39,
   "metadata": {},
   "outputs": [
    {
     "data": {
      "text/plain": [
       "12.033333333333333"
      ]
     },
     "execution_count": 39,
     "metadata": {},
     "output_type": "execute_result"
    }
   ],
   "source": [
    "d[0]['lexical_diversity']"
   ]
  },
  {
   "cell_type": "markdown",
   "metadata": {},
   "source": [
    "## Word Distribution with and without stopwords"
   ]
  },
  {
   "cell_type": "code",
   "execution_count": 40,
   "metadata": {
    "scrolled": true
   },
   "outputs": [
    {
     "data": {
      "text/plain": [
       "[['.', 6],\n",
       " ['the', 5],\n",
       " [',', 4],\n",
       " ['aneurysms', 2],\n",
       " ['often', 2],\n",
       " ['in', 2],\n",
       " ['of', 2],\n",
       " ['aneurysm', 2],\n",
       " ['can', 2],\n",
       " ['and', 2],\n",
       " ['occur', 1],\n",
       " ['aorta', 1],\n",
       " ['brain', 1],\n",
       " ['back', 1],\n",
       " ['knee', 1],\n",
       " ['intestine', 1],\n",
       " ['or', 1],\n",
       " ['spleen', 1],\n",
       " ['a', 1],\n",
       " ['ruptured', 1],\n",
       " ['result', 1],\n",
       " ['internal', 1],\n",
       " ['bleeding', 1],\n",
       " ['stroke', 1],\n",
       " ['it', 1],\n",
       " ['sometimes', 1],\n",
       " ['be', 1],\n",
       " ['fatal', 1],\n",
       " ['have', 1],\n",
       " ['no', 1],\n",
       " ['symptoms', 1],\n",
       " ['until', 1],\n",
       " ['they', 1],\n",
       " ['rupture', 1],\n",
       " ['treatment', 1],\n",
       " ['varies', 1],\n",
       " ['from', 1],\n",
       " ['watchful', 1],\n",
       " ['waiting', 1],\n",
       " ['to', 1],\n",
       " ['emergency', 1],\n",
       " ['surgery', 1],\n",
       " ['choice', 1],\n",
       " ['depends', 1],\n",
       " ['on', 1],\n",
       " ['location', 1],\n",
       " ['size', 1],\n",
       " ['condition', 1]]"
      ]
     },
     "execution_count": 40,
     "metadata": {},
     "output_type": "execute_result"
    }
   ],
   "source": [
    "d[0]['word_dist']"
   ]
  },
  {
   "cell_type": "code",
   "execution_count": null,
   "metadata": {},
   "outputs": [],
   "source": [
    "d[0]['word_dist_without_stopwords']"
   ]
  },
  {
   "cell_type": "markdown",
   "metadata": {},
   "source": [
    "## Polarity Scores"
   ]
  },
  {
   "cell_type": "code",
   "execution_count": 42,
   "metadata": {},
   "outputs": [
    {
     "data": {
      "text/plain": [
       "0.0"
      ]
     },
     "execution_count": 42,
     "metadata": {},
     "output_type": "execute_result"
    }
   ],
   "source": [
    "d[0]['polarity_title_pos']"
   ]
  },
  {
   "cell_type": "code",
   "execution_count": 43,
   "metadata": {},
   "outputs": [
    {
     "data": {
      "text/plain": [
       "0.0"
      ]
     },
     "execution_count": 43,
     "metadata": {},
     "output_type": "execute_result"
    }
   ],
   "source": [
    "d[0]['polarity_title_neg'] "
   ]
  },
  {
   "cell_type": "code",
   "execution_count": 44,
   "metadata": {},
   "outputs": [
    {
     "data": {
      "text/plain": [
       "1.0"
      ]
     },
     "execution_count": 44,
     "metadata": {},
     "output_type": "execute_result"
    }
   ],
   "source": [
    "d[0]['polarity_title_neu']"
   ]
  },
  {
   "cell_type": "markdown",
   "metadata": {},
   "source": [
    "## Reading Standard (8th grade and so on)"
   ]
  },
  {
   "cell_type": "code",
   "execution_count": 45,
   "metadata": {},
   "outputs": [
    {
     "data": {
      "text/plain": [
       "['8', '9']"
      ]
     },
     "execution_count": 45,
     "metadata": {},
     "output_type": "execute_result"
    }
   ],
   "source": [
    "d[0]['reading_standard']"
   ]
  },
  {
   "cell_type": "markdown",
   "metadata": {},
   "source": [
    "## Dependency Graph of Article"
   ]
  },
  {
   "cell_type": "code",
   "execution_count": 53,
   "metadata": {},
   "outputs": [
    {
     "data": {
      "text/plain": [
       "'<svg xmlns=\"http://www.w3.org/2000/svg\" xmlns:xlink=\"http://www.w3.org/1999/xlink\" id=\"0\" class=\"displacy\" width=\"225\" height=\"137.0\" style=\"max-width: none; height: 137.0px; color: #000000; background: #ffffff; font-family: Arial\"><text class=\"displacy-token\" fill=\"currentColor\" text-anchor=\"middle\" y=\"47.0\"><tspan class=\"displacy-word\" fill=\"currentColor\" x=\"50\">Aneurysm</tspan><tspan class=\"displacy-tag\" dy=\"2em\" fill=\"currentColor\" x=\"50\">PROPN</tspan></text></svg>'"
      ]
     },
     "execution_count": 53,
     "metadata": {},
     "output_type": "execute_result"
    }
   ],
   "source": [
    "d[0]['dependency_html']"
   ]
  },
  {
   "cell_type": "markdown",
   "metadata": {},
   "source": [
    "## NER of Content Entered"
   ]
  },
  {
   "cell_type": "code",
   "execution_count": 52,
   "metadata": {},
   "outputs": [
    {
     "data": {
      "text/plain": [
       "'<div class=\"entities\" style=\"line-height: 2.5\"><mark class=\"entity\" style=\"background: #feca74; padding: 0.45em 0.6em; margin: 0 0.25em; line-height: 1; border-radius: 0.35em; box-decoration-break: clone; -webkit-box-decoration-break: clone\"><span style=\"font-size: 0.8em; font-weight: bold; line-height: 1; border-radius: 0.35em; text-transform: uppercase; vertical-align: middle; margin-left: 0.5rem\">GPE</span></mark><mark class=\"entity\" style=\"background: #c887fb; padding: 0.45em 0.6em; margin: 0 0.25em; line-height: 1; border-radius: 0.35em; box-decoration-break: clone; -webkit-box-decoration-break: clone\">Aneurysms<span style=\"font-size: 0.8em; font-weight: bold; line-height: 1; border-radius: 0.35em; text-transform: uppercase; vertical-align: middle; margin-left: 0.5rem\">NORP</span></mark> often occur in the aorta, brain, back of the knee, intestine or spleen. <mark class=\"entity\" style=\"background: #feca74; padding: 0.45em 0.6em; margin: 0 0.25em; line-height: 1; border-radius: 0.35em; box-decoration-break: clone; -webkit-box-decoration-break: clone\"><span style=\"font-size: 0.8em; font-weight: bold; line-height: 1; border-radius: 0.35em; text-transform: uppercase; vertical-align: middle; margin-left: 0.5rem\">GPE</span></mark>A ruptured aneurysm can result in internal bleeding and stroke. It can sometimes be fatal.<mark class=\"entity\" style=\"background: #feca74; padding: 0.45em 0.6em; margin: 0 0.25em; line-height: 1; border-radius: 0.35em; box-decoration-break: clone; -webkit-box-decoration-break: clone\"><span style=\"font-size: 0.8em; font-weight: bold; line-height: 1; border-radius: 0.35em; text-transform: uppercase; vertical-align: middle; margin-left: 0.5rem\">GPE</span></mark><mark class=\"entity\" style=\"background: #c887fb; padding: 0.45em 0.6em; margin: 0 0.25em; line-height: 1; border-radius: 0.35em; box-decoration-break: clone; -webkit-box-decoration-break: clone\">Aneurysms<span style=\"font-size: 0.8em; font-weight: bold; line-height: 1; border-radius: 0.35em; text-transform: uppercase; vertical-align: middle; margin-left: 0.5rem\">NORP</span></mark> often have no symptoms until they rupture.<mark class=\"entity\" style=\"background: #feca74; padding: 0.45em 0.6em; margin: 0 0.25em; line-height: 1; border-radius: 0.35em; box-decoration-break: clone; -webkit-box-decoration-break: clone\"><span style=\"font-size: 0.8em; font-weight: bold; line-height: 1; border-radius: 0.35em; text-transform: uppercase; vertical-align: middle; margin-left: 0.5rem\">GPE</span></mark>Treatment varies from watchful waiting to emergency surgery. The choice depends on the location, size and condition of the aneurysm.<mark class=\"entity\" style=\"background: #feca74; padding: 0.45em 0.6em; margin: 0 0.25em; line-height: 1; border-radius: 0.35em; box-decoration-break: clone; -webkit-box-decoration-break: clone\"><span style=\"font-size: 0.8em; font-weight: bold; line-height: 1; border-radius: 0.35em; text-transform: uppercase; vertical-align: middle; margin-left: 0.5rem\">GPE</span></mark></div>'"
      ]
     },
     "execution_count": 52,
     "metadata": {},
     "output_type": "execute_result"
    }
   ],
   "source": [
    "d[0]['ner_html']"
   ]
  },
  {
   "cell_type": "code",
   "execution_count": 50,
   "metadata": {
    "scrolled": false
   },
   "outputs": [
    {
     "data": {
      "text/html": [
       "<svg xmlns=\"http://www.w3.org/2000/svg\" xmlns:xlink=\"http://www.w3.org/1999/xlink\" id=\"0\" class=\"displacy\" width=\"575\" height=\"224.5\" style=\"max-width: none; height: 224.5px; color: #000000; background: #ffffff; font-family: Arial\">\n",
       "<text class=\"displacy-token\" fill=\"currentColor\" text-anchor=\"middle\" y=\"134.5\">\n",
       "    <tspan class=\"displacy-word\" fill=\"currentColor\" x=\"50\">Aneurysm</tspan>\n",
       "    <tspan class=\"displacy-tag\" dy=\"2em\" fill=\"currentColor\" x=\"50\">PROPN</tspan>\n",
       "</text>\n",
       "\n",
       "<text class=\"displacy-token\" fill=\"currentColor\" text-anchor=\"middle\" y=\"134.5\">\n",
       "    <tspan class=\"displacy-word\" fill=\"currentColor\" x=\"225\">is</tspan>\n",
       "    <tspan class=\"displacy-tag\" dy=\"2em\" fill=\"currentColor\" x=\"225\">VERB</tspan>\n",
       "</text>\n",
       "\n",
       "<text class=\"displacy-token\" fill=\"currentColor\" text-anchor=\"middle\" y=\"134.5\">\n",
       "    <tspan class=\"displacy-word\" fill=\"currentColor\" x=\"400\">fun</tspan>\n",
       "    <tspan class=\"displacy-tag\" dy=\"2em\" fill=\"currentColor\" x=\"400\">ADJ</tspan>\n",
       "</text>\n",
       "\n",
       "<g class=\"displacy-arrow\">\n",
       "    <path class=\"displacy-arc\" id=\"arrow-0-0\" stroke-width=\"2px\" d=\"M70,89.5 C70,2.0 225.0,2.0 225.0,89.5\" fill=\"none\" stroke=\"currentColor\"/>\n",
       "    <text dy=\"1.25em\" style=\"font-size: 0.8em; letter-spacing: 1px\">\n",
       "        <textPath xlink:href=\"#arrow-0-0\" class=\"displacy-label\" startOffset=\"50%\" fill=\"currentColor\" text-anchor=\"middle\">nsubj</textPath>\n",
       "    </text>\n",
       "    <path class=\"displacy-arrowhead\" d=\"M70,91.5 L62,79.5 78,79.5\" fill=\"currentColor\"/>\n",
       "</g>\n",
       "\n",
       "<g class=\"displacy-arrow\">\n",
       "    <path class=\"displacy-arc\" id=\"arrow-0-1\" stroke-width=\"2px\" d=\"M245,89.5 C245,2.0 400.0,2.0 400.0,89.5\" fill=\"none\" stroke=\"currentColor\"/>\n",
       "    <text dy=\"1.25em\" style=\"font-size: 0.8em; letter-spacing: 1px\">\n",
       "        <textPath xlink:href=\"#arrow-0-1\" class=\"displacy-label\" startOffset=\"50%\" fill=\"currentColor\" text-anchor=\"middle\">acomp</textPath>\n",
       "    </text>\n",
       "    <path class=\"displacy-arrowhead\" d=\"M400.0,91.5 L408.0,79.5 392.0,79.5\" fill=\"currentColor\"/>\n",
       "</g>\n",
       "</svg>"
      ],
      "text/plain": [
       "<IPython.core.display.HTML object>"
      ]
     },
     "metadata": {},
     "output_type": "display_data"
    },
    {
     "data": {
      "text/html": [
       "<div class=\"entities\" style=\"line-height: 2.5\">\n",
       "<mark class=\"entity\" style=\"background: #feca74; padding: 0.45em 0.6em; margin: 0 0.25em; line-height: 1; border-radius: 0.35em; box-decoration-break: clone; -webkit-box-decoration-break: clone\">\n",
       "    \n",
       "\n",
       "    <span style=\"font-size: 0.8em; font-weight: bold; line-height: 1; border-radius: 0.35em; text-transform: uppercase; vertical-align: middle; margin-left: 0.5rem\">GPE</span>\n",
       "</mark>\n",
       "\n",
       "<mark class=\"entity\" style=\"background: #c887fb; padding: 0.45em 0.6em; margin: 0 0.25em; line-height: 1; border-radius: 0.35em; box-decoration-break: clone; -webkit-box-decoration-break: clone\">\n",
       "    Aneurysms\n",
       "    <span style=\"font-size: 0.8em; font-weight: bold; line-height: 1; border-radius: 0.35em; text-transform: uppercase; vertical-align: middle; margin-left: 0.5rem\">NORP</span>\n",
       "</mark>\n",
       " often occur in the aorta, brain, back of the knee, intestine or spleen. \n",
       "<mark class=\"entity\" style=\"background: #feca74; padding: 0.45em 0.6em; margin: 0 0.25em; line-height: 1; border-radius: 0.35em; box-decoration-break: clone; -webkit-box-decoration-break: clone\">\n",
       "    \n",
       "\n",
       "    <span style=\"font-size: 0.8em; font-weight: bold; line-height: 1; border-radius: 0.35em; text-transform: uppercase; vertical-align: middle; margin-left: 0.5rem\">GPE</span>\n",
       "</mark>\n",
       "A ruptured aneurysm can result in internal bleeding and stroke. It can sometimes be fatal.\n",
       "<mark class=\"entity\" style=\"background: #feca74; padding: 0.45em 0.6em; margin: 0 0.25em; line-height: 1; border-radius: 0.35em; box-decoration-break: clone; -webkit-box-decoration-break: clone\">\n",
       "    \n",
       "\n",
       "    <span style=\"font-size: 0.8em; font-weight: bold; line-height: 1; border-radius: 0.35em; text-transform: uppercase; vertical-align: middle; margin-left: 0.5rem\">GPE</span>\n",
       "</mark>\n",
       "\n",
       "<mark class=\"entity\" style=\"background: #c887fb; padding: 0.45em 0.6em; margin: 0 0.25em; line-height: 1; border-radius: 0.35em; box-decoration-break: clone; -webkit-box-decoration-break: clone\">\n",
       "    Aneurysms\n",
       "    <span style=\"font-size: 0.8em; font-weight: bold; line-height: 1; border-radius: 0.35em; text-transform: uppercase; vertical-align: middle; margin-left: 0.5rem\">NORP</span>\n",
       "</mark>\n",
       " often have no symptoms until they rupture.\n",
       "<mark class=\"entity\" style=\"background: #feca74; padding: 0.45em 0.6em; margin: 0 0.25em; line-height: 1; border-radius: 0.35em; box-decoration-break: clone; -webkit-box-decoration-break: clone\">\n",
       "    \n",
       "\n",
       "    <span style=\"font-size: 0.8em; font-weight: bold; line-height: 1; border-radius: 0.35em; text-transform: uppercase; vertical-align: middle; margin-left: 0.5rem\">GPE</span>\n",
       "</mark>\n",
       "Treatment varies from watchful waiting to emergency surgery. The choice depends on the location, size and condition of the aneurysm.\n",
       "<mark class=\"entity\" style=\"background: #feca74; padding: 0.45em 0.6em; margin: 0 0.25em; line-height: 1; border-radius: 0.35em; box-decoration-break: clone; -webkit-box-decoration-break: clone\">\n",
       "    \n",
       "\n",
       "    <span style=\"font-size: 0.8em; font-weight: bold; line-height: 1; border-radius: 0.35em; text-transform: uppercase; vertical-align: middle; margin-left: 0.5rem\">GPE</span>\n",
       "</mark>\n",
       "</div>"
      ],
      "text/plain": [
       "<IPython.core.display.HTML object>"
      ]
     },
     "metadata": {},
     "output_type": "display_data"
    },
    {
     "data": {
      "text/plain": [
       "(None, None)"
      ]
     },
     "execution_count": 50,
     "metadata": {},
     "output_type": "execute_result"
    }
   ],
   "source": [
    "spacy_vizualizer('Aneurysm is fun',text)"
   ]
  },
  {
   "cell_type": "code",
   "execution_count": null,
   "metadata": {},
   "outputs": [],
   "source": []
  }
 ],
 "metadata": {
  "kernelspec": {
   "display_name": "Python 3",
   "language": "python",
   "name": "python3"
  },
  "language_info": {
   "codemirror_mode": {
    "name": "ipython",
    "version": 3
   },
   "file_extension": ".py",
   "mimetype": "text/x-python",
   "name": "python",
   "nbconvert_exporter": "python",
   "pygments_lexer": "ipython3",
   "version": "3.6.5"
  }
 },
 "nbformat": 4,
 "nbformat_minor": 2
}
