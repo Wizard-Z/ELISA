{
  "nbformat": 4,
  "nbformat_minor": 0,
  "metadata": {
    "colab": {
      "name": "Minor_features_exploration.ipynb",
      "version": "0.3.2",
      "provenance": [],
      "collapsed_sections": [],
      "include_colab_link": true
    },
    "kernelspec": {
      "name": "python3",
      "display_name": "Python 3"
    },
    "accelerator": "GPU"
  },
  "cells": [
    {
      "cell_type": "markdown",
      "metadata": {
        "id": "view-in-github",
        "colab_type": "text"
      },
      "source": [
        "<a href=\"https://colab.research.google.com/github/arvinsingh/ELISA/blob/master/tree/master/JupyterNotebooksMinor_features_exploration.ipynb\" target=\"_parent\"><img src=\"https://colab.research.google.com/assets/colab-badge.svg\" alt=\"Open In Colab\"/></a>"
      ]
    },
    {
      "metadata": {
        "id": "KSFpskGXuKl8",
        "colab_type": "code",
        "outputId": "a8bf136d-8c4e-4b2b-d7df-1279fac94fff",
        "colab": {
          "base_uri": "https://localhost:8080/",
          "height": 34
        }
      },
      "cell_type": "code",
      "source": [
        "from google.colab import drive\n",
        "drive.mount('/content/drive')"
      ],
      "execution_count": 46,
      "outputs": [
        {
          "output_type": "stream",
          "text": [
            "Drive already mounted at /content/drive; to attempt to forcibly remount, call drive.mount(\"/content/drive\", force_remount=True).\n"
          ],
          "name": "stdout"
        }
      ]
    },
    {
      "metadata": {
        "id": "spBre56Su1Ag",
        "colab_type": "code",
        "colab": {
          "base_uri": "https://localhost:8080/",
          "height": 136
        },
        "outputId": "9da318f0-eb24-4df5-e736-76b32cfb8c75"
      },
      "cell_type": "code",
      "source": [
        "# Imports\n",
        "import numpy as np\n",
        "import pandas as pd\n",
        "import nltk\n",
        "nltk.download('stopwords')\n",
        "nltk.download('punkt')\n",
        "from nltk.tokenize import sent_tokenize\n",
        "from nltk.tokenize import word_tokenize\n",
        "from nltk.probability import FreqDist\n",
        "from scipy import stats\n",
        "import itertools\n",
        "import string\n",
        "from nltk.corpus import stopwords\n",
        "from nltk.tokenize import RegexpTokenizer\n",
        "stop_words=set(stopwords.words(\"english\"))\n",
        "from nltk.sentiment.vader import SentimentIntensityAnalyzer\n",
        "nltk.download('vader_lexicon')\n",
        "print('Done')"
      ],
      "execution_count": 47,
      "outputs": [
        {
          "output_type": "stream",
          "text": [
            "[nltk_data] Downloading package stopwords to /root/nltk_data...\n",
            "[nltk_data]   Package stopwords is already up-to-date!\n",
            "[nltk_data] Downloading package punkt to /root/nltk_data...\n",
            "[nltk_data]   Package punkt is already up-to-date!\n",
            "[nltk_data] Downloading package vader_lexicon to /root/nltk_data...\n",
            "[nltk_data]   Package vader_lexicon is already up-to-date!\n",
            "Done\n"
          ],
          "name": "stdout"
        }
      ]
    },
    {
      "metadata": {
        "id": "TfKHpqbN4BeB",
        "colab_type": "text"
      },
      "cell_type": "markdown",
      "source": [
        "# Various Functions\n"
      ]
    },
    {
      "metadata": {
        "id": "5udBmyHkvp2c",
        "colab_type": "code",
        "colab": {}
      },
      "cell_type": "code",
      "source": [
        "#reliable = pd.read_csv('drive/My Drive/CSV/reliable_mini.csv')\n",
        "#fake = pd.read_csv('drive/My Drive/CSV/fake_mini.csv')\n",
        "clickbait = pd.read_csv('drive/My Drive/CSV/clickbait_mini.csv')\n",
        "#kaggle = pd.read_csv('drive/My Drive/CSV/train.csv')"
      ],
      "execution_count": 0,
      "outputs": []
    },
    {
      "metadata": {
        "id": "r0KGgNIswy7Z",
        "colab_type": "code",
        "colab": {}
      },
      "cell_type": "code",
      "source": [
        "def lexical_diversity(text):\n",
        "    word_count = len(text)\n",
        "    vocab_size = len(set(text))\n",
        "    diversity_score = word_count / vocab_size\n",
        "    return diversity_score"
      ],
      "execution_count": 0,
      "outputs": []
    },
    {
      "metadata": {
        "id": "vy2RpRXAeSQ7",
        "colab_type": "code",
        "colab": {}
      },
      "cell_type": "code",
      "source": [
        "def tokeniz_filter(sentences):\n",
        "  useless = stopwords.words('english') + list(string.punctuation)\n",
        "  word_list = nltk.word_tokenize(sentences.lower())\n",
        "  filtered = [word for word in word_list if word not in useless]\n",
        "  return filtered, ' '.join(filtered)"
      ],
      "execution_count": 0,
      "outputs": []
    },
    {
      "metadata": {
        "id": "MDR1zAs91XvP",
        "colab_type": "code",
        "colab": {}
      },
      "cell_type": "code",
      "source": [
        "def freq_dist_articles(dataframe, column_name, stop_flag = False):\n",
        "  '''\n",
        "  Returns word distribution for DataFrame\n",
        "  '''\n",
        "  tokenized_word = []\n",
        "  articles = len(dataframe)\n",
        "  for i in range(articles):\n",
        "    if stop_flag:\n",
        "      tokenized_word.extend([x for x in word_tokenize(dataframe[column_name][i]) if (x not in stop_words and x.isalpha())])\n",
        "    else:\n",
        "      tokenized_word.extend(word_tokenize(dataframe[column_name][i]))     \n",
        "  fdist = FreqDist(tokenized_word)\n",
        "  return fdist\n",
        "  \n",
        "def freq_dist_sentence(sentence,stop_flag = False):\n",
        "  '''\n",
        "  Returns for Each Sentence\n",
        "  '''\n",
        "  tokenized_word = word_tokenize(sentence.lower())\n",
        "  if stop_flag:\n",
        "    tokenized_word = [x for x in tokenized_word if (x not in stop_words and x.isalpha())]\n",
        "  fdist = FreqDist(tokenized_word)\n",
        "  return fdist"
      ],
      "execution_count": 0,
      "outputs": []
    },
    {
      "metadata": {
        "id": "h7U6AqIp-9-c",
        "colab_type": "code",
        "colab": {}
      },
      "cell_type": "code",
      "source": [
        "sid = SentimentIntensityAnalyzer()\n",
        "def polarity_sc(sentence):\n",
        "  scores = sid.polarity_scores(sentence)\n",
        "  return scores"
      ],
      "execution_count": 0,
      "outputs": []
    },
    {
      "metadata": {
        "id": "CnolhAWaKJnZ",
        "colab_type": "code",
        "colab": {}
      },
      "cell_type": "code",
      "source": [
        "def get_counts(text, word_list):\n",
        "  words = nltk.tokenize.word_tokenize(text.lower())\n",
        "  count = 0\n",
        "  for word in words:\n",
        "    if word in word_list:\n",
        "      count += 1\n",
        "  return count\n",
        "  "
      ],
      "execution_count": 0,
      "outputs": []
    },
    {
      "metadata": {
        "id": "LGieMEA977kQ",
        "colab_type": "code",
        "colab": {}
      },
      "cell_type": "code",
      "source": [
        "def char_word_dist(input_data, column_name, rows):\n",
        "    print('Character Length Distribution')\n",
        "    title_chlen_list = map(lambda x: len(x), input_data[column_name][:rows])\n",
        "    list_char_dist = list(title_chlen_list)\n",
        "    print(stats.describe(list_char_dist))\n",
        "    print()\n",
        "\n",
        "    print('Word Length Distribution (Assume Separation by Whitespace)')\n",
        "    title_chlen_list = list(map(lambda x: map(len, x.split(' ')), input_data[column_name][:rows]))\n",
        "    list_chlen = list(title_chlen_list)\n",
        "    title_chlen_list = itertools.chain.from_iterable(list_chlen)\n",
        "    list_word_dist = list(title_chlen_list)\n",
        "    print(stats.describe(list_word_dist))\n",
        "    print()\n",
        "\n",
        "    print('Upper Case Characters Distribution')\n",
        "    title_cap_list = map(lambda x: sum([1 for i in x if i.isupper()]), input_data[column_name][:rows])\n",
        "    list_upper_dist = list(title_cap_list)\n",
        "    print(stats.describe(list_upper_dist))\n",
        "    print()\n",
        "\n",
        "    print('Lower Case Characters Distribution')\n",
        "    title_low_list = map(lambda x: sum([1 for i in x if i.islower()]), input_data[column_name][:rows])\n",
        "    list_lower_dist = list(title_low_list)\n",
        "    print(stats.describe(list_lower_dist))\n",
        "    print()\n",
        "\n",
        "    print('Punctuation Distribution')\n",
        "    title_punct_list = map(lambda x: sum([1 for i in x if i in string.punctuation and i is not ' ']), input_data[column_name][:rows])\n",
        "    list_punc_dict = list(title_punct_list)\n",
        "    print(stats.describe(list_punc_dict))\n",
        "    print()\n",
        "    "
      ],
      "execution_count": 0,
      "outputs": []
    },
    {
      "metadata": {
        "id": "2SI82GQjKgN_",
        "colab_type": "code",
        "outputId": "6c95d557-c4b3-4e25-9ddf-7e4bcd1cd955",
        "colab": {
          "base_uri": "https://localhost:8080/",
          "height": 292
        }
      },
      "cell_type": "code",
      "source": [
        "char_word_dist(clickbait, 'title',100)"
      ],
      "execution_count": 24,
      "outputs": [
        {
          "output_type": "stream",
          "text": [
            "Character Length Distribution\n",
            "DescribeResult(nobs=100, minmax=(6, 104), mean=75.53, variance=297.86777777777786, skewness=-2.0285595196636352, kurtosis=4.357578309916787)\n",
            "\n",
            "Word Length Distribution (Assume Separation by Whitespace)\n",
            "DescribeResult(nobs=1208, minmax=(1, 15), mean=5.335264900662252, variance=6.693635223887148, skewness=0.5228041550364999, kurtosis=-0.0948597176870809)\n",
            "\n",
            "Upper Case Characters Distribution\n",
            "DescribeResult(nobs=100, minmax=(1, 41), mean=13.28, variance=37.35515151515152, skewness=0.5278634339570984, kurtosis=3.2200479881674493)\n",
            "\n",
            "Lower Case Characters Distribution\n",
            "DescribeResult(nobs=100, minmax=(0, 85), mean=49.06, variance=167.81454545454545, skewness=-1.3710978137833956, kurtosis=3.442303262865704)\n",
            "\n",
            "Punctuation Distribution\n",
            "DescribeResult(nobs=100, minmax=(0, 4), mean=1.42, variance=1.235959595959596, skewness=0.22473242702506913, kurtosis=-0.967662771636939)\n",
            "\n"
          ],
          "name": "stdout"
        }
      ]
    },
    {
      "metadata": {
        "id": "3LwV0VMsi5qO",
        "colab_type": "text"
      },
      "cell_type": "markdown",
      "source": [
        "Analyze the most frequently used words in the entire corpus set.\n",
        "\n",
        "Objective here is to try to find the most 'baity' words as possible - good for crafting a 'bait' corpus."
      ]
    },
    {
      "metadata": {
        "id": "m2HJyysBAEnm",
        "colab_type": "code",
        "colab": {
          "base_uri": "https://localhost:8080/",
          "height": 34
        },
        "outputId": "8c0776dd-4ba0-471d-91e6-a86117a82013"
      },
      "cell_type": "code",
      "source": [
        "polarity_sc('This is positive but I am not sure about it. Actually I have No Idea!!')"
      ],
      "execution_count": 54,
      "outputs": [
        {
          "output_type": "execute_result",
          "data": {
            "text/plain": [
              "{'compound': -0.5464, 'neg': 0.321, 'neu': 0.552, 'pos': 0.127}"
            ]
          },
          "metadata": {
            "tags": []
          },
          "execution_count": 54
        }
      ]
    },
    {
      "metadata": {
        "id": "5XThgs6-fHh3",
        "colab_type": "code",
        "colab": {}
      },
      "cell_type": "code",
      "source": [
        "d = freq_dist_sentence('hello this is a sentece to be examined Hello hello!!!! !!!! hello', True)"
      ],
      "execution_count": 0,
      "outputs": []
    },
    {
      "metadata": {
        "id": "XFQlMypSfRf8",
        "colab_type": "code",
        "outputId": "79a08e4c-bdc5-4c91-96f1-d765240daff9",
        "colab": {
          "base_uri": "https://localhost:8080/",
          "height": 394
        }
      },
      "cell_type": "code",
      "source": [
        "d.plot(30,cumulative=False)"
      ],
      "execution_count": 13,
      "outputs": [
        {
          "output_type": "display_data",
          "data": {
            "image/png": "[encoded data removed]",
            "text/plain": [
              "<matplotlib.figure.Figure at 0x7efdf54bcba8>"
            ]
          },
          "metadata": {
            "tags": []
          }
        }
      ]
    },
    {
      "metadata": {
        "id": "vElL8FqS4MlC",
        "colab_type": "code",
        "colab": {}
      },
      "cell_type": "code",
      "source": [
        "# Stop Flags\n",
        "distt = freq_dist_articles(clickbait[:50], 'title',True)"
      ],
      "execution_count": 0,
      "outputs": []
    },
    {
      "metadata": {
        "id": "EHbTVHiH6O0l",
        "colab_type": "code",
        "outputId": "3aa0491f-c939-403d-b5ed-aceec2dc6fa8",
        "colab": {
          "base_uri": "https://localhost:8080/",
          "height": 406
        }
      },
      "cell_type": "code",
      "source": [
        "distt.plot(30,cumulative=False)"
      ],
      "execution_count": 15,
      "outputs": [
        {
          "output_type": "display_data",
          "data": {
            "image/png": "[encoded data removed]",
            "text/plain": [
              "<matplotlib.figure.Figure at 0x7efdf54eb4e0>"
            ]
          },
          "metadata": {
            "tags": []
          }
        }
      ]
    },
    {
      "metadata": {
        "id": "1T6QrSIIjR6A",
        "colab_type": "code",
        "colab": {}
      },
      "cell_type": "code",
      "source": [
        "distt = freq_dist_articles(clickbait[:50], 'title')"
      ],
      "execution_count": 0,
      "outputs": []
    },
    {
      "metadata": {
        "id": "K0yWxNrVkOM_",
        "colab_type": "code",
        "outputId": "aab1d4c9-0742-4817-bb15-a548776bd290",
        "colab": {
          "base_uri": "https://localhost:8080/",
          "height": 396
        }
      },
      "cell_type": "code",
      "source": [
        "distt.plot(30,cumulative=False)"
      ],
      "execution_count": 19,
      "outputs": [
        {
          "output_type": "display_data",
          "data": {
            "image/png": "[encoded data removed]",
            "text/plain": [
              "<matplotlib.figure.Figure at 0x7efdf2bcbb38>"
            ]
          },
          "metadata": {
            "tags": []
          }
        }
      ]
    },
    {
      "metadata": {
        "id": "5pB5RCxm2yuY",
        "colab_type": "code",
        "colab": {}
      },
      "cell_type": "code",
      "source": [
        "# Cleaning and processing Data\n",
        "def find_long_articles(df, len):\n",
        "    \"\"\"\n",
        "    Returns the DataFrame with content length more than\n",
        "    specific charaters.\n",
        "    \"\"\"\n",
        "    df['length'] = df.content.str.len()\n",
        "    return df[df.length > len]\n",
        "\n",
        "def preprocess(Data, col):\n",
        "    \"\"\"\n",
        "    Strip or replace unnecessary details.\n",
        "    \"\"\"\n",
        "    # Remove ampersand\n",
        "    Data[col] = Data[col].str.replace(r'[%$#]*', '')\n",
        "    print('Ampersand Removed')\n",
        "    # Replace & by 'and'\n",
        "    Data[col] = Data[col].str.replace(r'&', 'and')\n",
        "    print('& changed to and')\n",
        "    # Remove 'Headline:' and content before it\n",
        "    Data[col] = Data[col].str.replace(r'[\\s\\S]*Headline:[\\s\\w!]*\\s\\s', '')\n",
        "    print('Headline removed')\n",
        "    # Remove (), [] and content inside\n",
        "    Data[col] = Data[col].str.replace(r'([\\(\\[])[\\s\\S]*([\\)\\]])\\S*', '')\n",
        "    print('() [] removed')\n",
        "    # Remove underscores\n",
        "    Data[col] = Data[col].str.replace(r'_+', ' ')\n",
        "    print('Underscores removed ')\n",
        "    # Replace any date by 'date'\n",
        "    Data[col] = Data[col].str.replace(r'\\d+\\/\\d+\\/\\d+', 'date')\n",
        "    print('date changed')\n",
        "    # Replace any digit by 'number'\n",
        "    Data[col] = Data[col].str.replace(r'\\d*\\.*,*:*\\d+', 'number')\n",
        "    print('Number replaced')\n",
        "    # Remove more than two spaces together\n",
        "    Data[col] = Data[col].str.replace(r'\\s{2,}', ' ')\n",
        "    print('space unduplicated')\n",
        "    # Remove Source url\n",
        "    Data[col] = Data[col].str.replace(r'\\s[Ss]\\w*:\\s\\w*:.*', '')\n",
        "    print('source removed')\n",
        "    # Remove url in general\n",
        "    Data[col] = Data[col].str.replace(r'(https?:\\/\\/)(\\s)*(www\\.)?(\\s)*((\\w|\\s)+\\.)*([\\w\\-\\s]+\\/)*([\\w\\-]+)((\\?)?[\\w\\s]*=\\s*[\\w\\%&]*)*', '')\n",
        "    print('url changed')\n",
        "    return Data\n",
        "\n",
        "df  = pd.DataFrame()\n",
        "\n",
        "#path = '../Datasets/LittleSplits/'\n",
        "path = 'drive/My Drive/CSV/'\n",
        "newstypes = ['fake',\n",
        "             'reliable',\n",
        "            ]\n",
        "\n",
        "for news_set in newstypes:\n",
        "    newsDF = pd.read_csv(path + news_set + '_mini.csv', encoding='utf-8')\n",
        "    newsDF.drop(columns=['authors'], inplace=True)\n",
        "    # Preprocess the content and title\n",
        "    newsDF = preprocess(newsDF, 'content')\n",
        "    newsDF = preprocess(newsDF, 'title')\n",
        "    # Keep articles with length more than specified minimum\n",
        "    newsDF = find_long_articles(newsDF, 1000)\n",
        "    objs = [df, newsDF]\n",
        "    # Join the datasets\n",
        "    df = pd.concat(objs, axis=0, join='outer', join_axes=None, ignore_index=True, \n",
        "                   keys=None, levels=None, names=None, verify_integrity=False, \n",
        "                   copy=True)\n",
        "    \n",
        " "
      ],
      "execution_count": 0,
      "outputs": []
    },
    {
      "metadata": {
        "id": "uQfTzQXQ7KIr",
        "colab_type": "code",
        "colab": {}
      },
      "cell_type": "code",
      "source": [
        "df.to_csv('drive/My Drive/CSV/clean_fake_reliable.csv')"
      ],
      "execution_count": 0,
      "outputs": []
    },
    {
      "metadata": {
        "id": "QgbmL6bai6Kf",
        "colab_type": "code",
        "colab": {
          "base_uri": "https://localhost:8080/",
          "height": 170
        },
        "outputId": "12fdf212-9a7c-4831-b243-de747a90c649"
      },
      "cell_type": "code",
      "source": [
        "df.info()"
      ],
      "execution_count": 90,
      "outputs": [
        {
          "output_type": "stream",
          "text": [
            "<class 'pandas.core.frame.DataFrame'>\n",
            "RangeIndex: 12886 entries, 0 to 12885\n",
            "Data columns (total 4 columns):\n",
            "type       12886 non-null object\n",
            "content    12886 non-null object\n",
            "title      12886 non-null object\n",
            "length     12886 non-null int64\n",
            "dtypes: int64(1), object(3)\n",
            "memory usage: 402.8+ KB\n"
          ],
          "name": "stdout"
        }
      ]
    },
    {
      "metadata": {
        "id": "sugUBL0k2AN3",
        "colab_type": "text"
      },
      "cell_type": "markdown",
      "source": [
        "**ADDING FEATURES**"
      ]
    },
    {
      "metadata": {
        "id": "MRk-h5aoje98",
        "colab_type": "code",
        "colab": {}
      },
      "cell_type": "code",
      "source": [
        "df['i_me_myself'] = df['content'].apply(get_counts,args = (['i', 'me', 'myself'],))\n",
        "df['punct'] = df['content'].apply(get_counts,args = ([',','.', '!', '?'],))\n",
        "df['lexical_diversity'] = df['content'].apply(lexical_diversity)\n"
      ],
      "execution_count": 0,
      "outputs": []
    },
    {
      "metadata": {
        "id": "_68Q5Mv8kRag",
        "colab_type": "code",
        "colab": {
          "base_uri": "https://localhost:8080/",
          "height": 204
        },
        "outputId": "1ded6169-6b7d-4b43-e5cb-261b54cf3794"
      },
      "cell_type": "code",
      "source": [
        "df.head()"
      ],
      "execution_count": 98,
      "outputs": [
        {
          "output_type": "execute_result",
          "data": {
            "text/html": [
              "<div>\n",
              "<style scoped>\n",
              "    .dataframe tbody tr th:only-of-type {\n",
              "        vertical-align: middle;\n",
              "    }\n",
              "\n",
              "    .dataframe tbody tr th {\n",
              "        vertical-align: top;\n",
              "    }\n",
              "\n",
              "    .dataframe thead th {\n",
              "        text-align: right;\n",
              "    }\n",
              "</style>\n",
              "<table border=\"1\" class=\"dataframe\">\n",
              "  <thead>\n",
              "    <tr style=\"text-align: right;\">\n",
              "      <th></th>\n",
              "      <th>type</th>\n",
              "      <th>content</th>\n",
              "      <th>title</th>\n",
              "      <th>length</th>\n",
              "      <th>i_me_myself</th>\n",
              "      <th>punct</th>\n",
              "      <th>lexical_diversity</th>\n",
              "    </tr>\n",
              "  </thead>\n",
              "  <tbody>\n",
              "    <tr>\n",
              "      <th>0</th>\n",
              "      <td>fake</td>\n",
              "      <td>Quite frankly, I’m surprised it has half left....</td>\n",
              "      <td>Surprise: Socialist Hotbed Of Venezuela Has Lo...</td>\n",
              "      <td>1492</td>\n",
              "      <td>1</td>\n",
              "      <td>30</td>\n",
              "      <td>30.448980</td>\n",
              "    </tr>\n",
              "    <tr>\n",
              "      <th>1</th>\n",
              "      <td>fake</td>\n",
              "      <td>If You Are Upset About Being Called Fake News,...</td>\n",
              "      <td>Water Cooler date Open Thread; Fake News ? CNN...</td>\n",
              "      <td>2355</td>\n",
              "      <td>0</td>\n",
              "      <td>32</td>\n",
              "      <td>42.053571</td>\n",
              "    </tr>\n",
              "    <tr>\n",
              "      <th>2</th>\n",
              "      <td>fake</td>\n",
              "      <td>Let’s be honest: This is pretty much all of Fo...</td>\n",
              "      <td>Veteran Commentator Calls Out the Growing “Eth...</td>\n",
              "      <td>2171</td>\n",
              "      <td>6</td>\n",
              "      <td>48</td>\n",
              "      <td>38.767857</td>\n",
              "    </tr>\n",
              "    <tr>\n",
              "      <th>3</th>\n",
              "      <td>fake</td>\n",
              "      <td>Let me tell you something, about otters and mo...</td>\n",
              "      <td>Lost Words, Hidden Words, Otters, Banks and Books</td>\n",
              "      <td>3131</td>\n",
              "      <td>13</td>\n",
              "      <td>72</td>\n",
              "      <td>61.392157</td>\n",
              "    </tr>\n",
              "    <tr>\n",
              "      <th>4</th>\n",
              "      <td>fake</td>\n",
              "      <td>Never mind transportation and power generation...</td>\n",
              "      <td>Why Sandwiches Must Be Banned</td>\n",
              "      <td>1650</td>\n",
              "      <td>0</td>\n",
              "      <td>21</td>\n",
              "      <td>31.132075</td>\n",
              "    </tr>\n",
              "  </tbody>\n",
              "</table>\n",
              "</div>"
            ],
            "text/plain": [
              "   type                                            content  \\\n",
              "0  fake  Quite frankly, I’m surprised it has half left....   \n",
              "1  fake  If You Are Upset About Being Called Fake News,...   \n",
              "2  fake  Let’s be honest: This is pretty much all of Fo...   \n",
              "3  fake  Let me tell you something, about otters and mo...   \n",
              "4  fake  Never mind transportation and power generation...   \n",
              "\n",
              "                                               title  length  i_me_myself  \\\n",
              "0  Surprise: Socialist Hotbed Of Venezuela Has Lo...    1492            1   \n",
              "1  Water Cooler date Open Thread; Fake News ? CNN...    2355            0   \n",
              "2  Veteran Commentator Calls Out the Growing “Eth...    2171            6   \n",
              "3  Lost Words, Hidden Words, Otters, Banks and Books    3131           13   \n",
              "4                      Why Sandwiches Must Be Banned    1650            0   \n",
              "\n",
              "   punct  lexical_diversity  \n",
              "0     30          30.448980  \n",
              "1     32          42.053571  \n",
              "2     48          38.767857  \n",
              "3     72          61.392157  \n",
              "4     21          31.132075  "
            ]
          },
          "metadata": {
            "tags": []
          },
          "execution_count": 98
        }
      ]
    },
    {
      "metadata": {
        "id": "B247VqRMql_C",
        "colab_type": "code",
        "colab": {}
      },
      "cell_type": "code",
      "source": [
        "\n",
        "import textstat"
      ],
      "execution_count": 0,
      "outputs": []
    },
    {
      "metadata": {
        "id": "TDt7KxMgql61",
        "colab_type": "code",
        "colab": {}
      },
      "cell_type": "code",
      "source": [
        "df['flesch_reading_ease'] = df['content'].apply(lambda x: textstat.flesch_reading_ease(x))\n",
        "df['smog_index'] = df['content'].apply(lambda x: textstat.smog_index(x))\n",
        "df['flesch_kincaid_grade'] = df['content'].apply(lambda x: textstat.flesch_kincaid_grade(x))\n",
        "df['coleman_liau_index'] = df['content'].apply(lambda x: textstat.coleman_liau_index(x))\n",
        "df['automated_readability_index'] = df['content'].apply(lambda x: textstat.automated_readability_index(x))\n",
        "df['dale_chall_readability_score'] = df['content'].apply(lambda x: textstat.dale_chall_readability_score(x))\n",
        "df['difficult_words'] = df['content'].apply(lambda x: textstat.difficult_words(x))\n",
        "df['linsear_write_formula'] = df['content'].apply(lambda x: textstat.linsear_write_formula(x))\n",
        "df['gunning_fog'] = df['content'].apply(lambda x: textstat.gunning_fog(x))\n",
        "df['text_standard'] = df['content'].apply(lambda x: textstat.text_standard(x))"
      ],
      "execution_count": 0,
      "outputs": []
    },
    {
      "metadata": {
        "id": "Be1b9LqCq-21",
        "colab_type": "code",
        "colab": {
          "base_uri": "https://localhost:8080/",
          "height": 547
        },
        "outputId": "df1a9cb1-d46a-4344-99f2-39d96a637ada"
      },
      "cell_type": "code",
      "source": [
        "df.head()"
      ],
      "execution_count": 104,
      "outputs": [
        {
          "output_type": "execute_result",
          "data": {
            "text/html": [
              "<div>\n",
              "<style scoped>\n",
              "    .dataframe tbody tr th:only-of-type {\n",
              "        vertical-align: middle;\n",
              "    }\n",
              "\n",
              "    .dataframe tbody tr th {\n",
              "        vertical-align: top;\n",
              "    }\n",
              "\n",
              "    .dataframe thead th {\n",
              "        text-align: right;\n",
              "    }\n",
              "</style>\n",
              "<table border=\"1\" class=\"dataframe\">\n",
              "  <thead>\n",
              "    <tr style=\"text-align: right;\">\n",
              "      <th></th>\n",
              "      <th>type</th>\n",
              "      <th>content</th>\n",
              "      <th>title</th>\n",
              "      <th>length</th>\n",
              "      <th>i_me_myself</th>\n",
              "      <th>punct</th>\n",
              "      <th>lexical_diversity</th>\n",
              "      <th>flesch_reading_ease</th>\n",
              "      <th>smog_index</th>\n",
              "      <th>flesch_kincaid_grade</th>\n",
              "      <th>coleman_liau_index</th>\n",
              "      <th>automated_readability_index</th>\n",
              "      <th>dale_chall_readability_score</th>\n",
              "      <th>difficult_words</th>\n",
              "      <th>linsear_write_formula</th>\n",
              "      <th>gunning_fog</th>\n",
              "      <th>text_standard</th>\n",
              "    </tr>\n",
              "  </thead>\n",
              "  <tbody>\n",
              "    <tr>\n",
              "      <th>0</th>\n",
              "      <td>fake</td>\n",
              "      <td>Quite frankly, I’m surprised it has half left....</td>\n",
              "      <td>Surprise: Socialist Hotbed Of Venezuela Has Lo...</td>\n",
              "      <td>1492</td>\n",
              "      <td>1</td>\n",
              "      <td>30</td>\n",
              "      <td>30.448980</td>\n",
              "      <td>55.95</td>\n",
              "      <td>12.2</td>\n",
              "      <td>9.3</td>\n",
              "      <td>13.97</td>\n",
              "      <td>12.1</td>\n",
              "      <td>8.79</td>\n",
              "      <td>64</td>\n",
              "      <td>9.000000</td>\n",
              "      <td>19.25</td>\n",
              "      <td>8th and 9th grade</td>\n",
              "    </tr>\n",
              "    <tr>\n",
              "      <th>1</th>\n",
              "      <td>fake</td>\n",
              "      <td>If You Are Upset About Being Called Fake News,...</td>\n",
              "      <td>Water Cooler date Open Thread; Fake News ? CNN...</td>\n",
              "      <td>2355</td>\n",
              "      <td>0</td>\n",
              "      <td>32</td>\n",
              "      <td>42.053571</td>\n",
              "      <td>55.17</td>\n",
              "      <td>12.7</td>\n",
              "      <td>11.6</td>\n",
              "      <td>12.25</td>\n",
              "      <td>14.5</td>\n",
              "      <td>8.21</td>\n",
              "      <td>83</td>\n",
              "      <td>15.500000</td>\n",
              "      <td>20.27</td>\n",
              "      <td>11th and 12th grade</td>\n",
              "    </tr>\n",
              "    <tr>\n",
              "      <th>2</th>\n",
              "      <td>fake</td>\n",
              "      <td>Let’s be honest: This is pretty much all of Fo...</td>\n",
              "      <td>Veteran Commentator Calls Out the Growing “Eth...</td>\n",
              "      <td>2171</td>\n",
              "      <td>6</td>\n",
              "      <td>48</td>\n",
              "      <td>38.767857</td>\n",
              "      <td>64.75</td>\n",
              "      <td>10.3</td>\n",
              "      <td>10.0</td>\n",
              "      <td>11.09</td>\n",
              "      <td>13.0</td>\n",
              "      <td>7.76</td>\n",
              "      <td>70</td>\n",
              "      <td>11.600000</td>\n",
              "      <td>18.85</td>\n",
              "      <td>9th and 10th grade</td>\n",
              "    </tr>\n",
              "    <tr>\n",
              "      <th>3</th>\n",
              "      <td>fake</td>\n",
              "      <td>Let me tell you something, about otters and mo...</td>\n",
              "      <td>Lost Words, Hidden Words, Otters, Banks and Books</td>\n",
              "      <td>3131</td>\n",
              "      <td>13</td>\n",
              "      <td>72</td>\n",
              "      <td>61.392157</td>\n",
              "      <td>81.33</td>\n",
              "      <td>8.1</td>\n",
              "      <td>5.7</td>\n",
              "      <td>7.65</td>\n",
              "      <td>6.9</td>\n",
              "      <td>6.33</td>\n",
              "      <td>71</td>\n",
              "      <td>8.166667</td>\n",
              "      <td>13.02</td>\n",
              "      <td>5th and 6th grade</td>\n",
              "    </tr>\n",
              "    <tr>\n",
              "      <th>4</th>\n",
              "      <td>fake</td>\n",
              "      <td>Never mind transportation and power generation...</td>\n",
              "      <td>Why Sandwiches Must Be Banned</td>\n",
              "      <td>1650</td>\n",
              "      <td>0</td>\n",
              "      <td>21</td>\n",
              "      <td>31.132075</td>\n",
              "      <td>33.21</td>\n",
              "      <td>17.9</td>\n",
              "      <td>18.0</td>\n",
              "      <td>13.76</td>\n",
              "      <td>22.2</td>\n",
              "      <td>9.33</td>\n",
              "      <td>64</td>\n",
              "      <td>34.500000</td>\n",
              "      <td>26.78</td>\n",
              "      <td>17th and 18th grade</td>\n",
              "    </tr>\n",
              "  </tbody>\n",
              "</table>\n",
              "</div>"
            ],
            "text/plain": [
              "   type                                            content  \\\n",
              "0  fake  Quite frankly, I’m surprised it has half left....   \n",
              "1  fake  If You Are Upset About Being Called Fake News,...   \n",
              "2  fake  Let’s be honest: This is pretty much all of Fo...   \n",
              "3  fake  Let me tell you something, about otters and mo...   \n",
              "4  fake  Never mind transportation and power generation...   \n",
              "\n",
              "                                               title  length  i_me_myself  \\\n",
              "0  Surprise: Socialist Hotbed Of Venezuela Has Lo...    1492            1   \n",
              "1  Water Cooler date Open Thread; Fake News ? CNN...    2355            0   \n",
              "2  Veteran Commentator Calls Out the Growing “Eth...    2171            6   \n",
              "3  Lost Words, Hidden Words, Otters, Banks and Books    3131           13   \n",
              "4                      Why Sandwiches Must Be Banned    1650            0   \n",
              "\n",
              "   punct  lexical_diversity  flesch_reading_ease  smog_index  \\\n",
              "0     30          30.448980                55.95        12.2   \n",
              "1     32          42.053571                55.17        12.7   \n",
              "2     48          38.767857                64.75        10.3   \n",
              "3     72          61.392157                81.33         8.1   \n",
              "4     21          31.132075                33.21        17.9   \n",
              "\n",
              "   flesch_kincaid_grade  coleman_liau_index  automated_readability_index  \\\n",
              "0                   9.3               13.97                         12.1   \n",
              "1                  11.6               12.25                         14.5   \n",
              "2                  10.0               11.09                         13.0   \n",
              "3                   5.7                7.65                          6.9   \n",
              "4                  18.0               13.76                         22.2   \n",
              "\n",
              "   dale_chall_readability_score  difficult_words  linsear_write_formula  \\\n",
              "0                          8.79               64               9.000000   \n",
              "1                          8.21               83              15.500000   \n",
              "2                          7.76               70              11.600000   \n",
              "3                          6.33               71               8.166667   \n",
              "4                          9.33               64              34.500000   \n",
              "\n",
              "   gunning_fog        text_standard  \n",
              "0        19.25    8th and 9th grade  \n",
              "1        20.27  11th and 12th grade  \n",
              "2        18.85   9th and 10th grade  \n",
              "3        13.02    5th and 6th grade  \n",
              "4        26.78  17th and 18th grade  "
            ]
          },
          "metadata": {
            "tags": []
          },
          "execution_count": 104
        }
      ]
    },
    {
      "metadata": {
        "id": "yymeOBmxkjMT",
        "colab_type": "code",
        "colab": {
          "base_uri": "https://localhost:8080/",
          "height": 34
        },
        "outputId": "1153134e-05a4-4916-b177-c9b41e6562d0"
      },
      "cell_type": "code",
      "source": [
        "!ls -la -h drive/My\\ Drive/CSV/clean_fake_reliable_features.csv"
      ],
      "execution_count": 110,
      "outputs": [
        {
          "output_type": "stream",
          "text": [
            "-rw------- 1 root root 42M Nov  3 18:10 'drive/My Drive/CSV/clean_fake_reliable_features.csv'\n"
          ],
          "name": "stdout"
        }
      ]
    }
  ]
}